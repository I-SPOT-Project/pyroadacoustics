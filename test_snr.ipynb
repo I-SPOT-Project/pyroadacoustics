{
 "cells": [
  {
   "cell_type": "code",
   "execution_count": 30,
   "metadata": {},
   "outputs": [
    {
     "name": "stdout",
     "output_type": "stream",
     "text": [
      "4.999999999999999\n"
     ]
    }
   ],
   "source": [
    "import numpy as np\n",
    "\n",
    "# Signal definition\n",
    "sig1 = np.random.randn(1000)\n",
    "sig2 = np.sin(2 * np.pi * 400 * np.arange(0, 1, 1/1000))\n",
    "\n",
    "# Adapt signal 2 to certain SNR\n",
    "SNR = 5\n",
    "alpha = np.sqrt(np.sum(sig2 ** 2) / (10 ** (SNR / 10) * np.sum(sig1 ** 2)))\n",
    "sig1_scaled = sig1 * alpha\n",
    "\n",
    "# Compute SNR\n",
    "snr_check = 20 * np.log10( np.sqrt(np.sum(sig2 ** 2)) / np.sqrt(np.sum(sig1_scaled ** 2)) )\n",
    "print(snr_check)"
   ]
  },
  {
   "cell_type": "code",
   "execution_count": 29,
   "metadata": {},
   "outputs": [
    {
     "data": {
      "text/plain": [
       "-0.5877852522925664"
      ]
     },
     "execution_count": 29,
     "metadata": {},
     "output_type": "execute_result"
    }
   ],
   "source": [
    "sig2[-1]\n"
   ]
  },
  {
   "cell_type": "code",
   "execution_count": null,
   "metadata": {},
   "outputs": [],
   "source": []
  }
 ],
 "metadata": {
  "interpreter": {
   "hash": "34473e775c900396242d372bc2d7dd0f22c6345a4c04ec50b7a0ad74cac5992f"
  },
  "kernelspec": {
   "display_name": "Python 3.9.7 ('outdoorSimulator')",
   "language": "python",
   "name": "python3"
  },
  "language_info": {
   "codemirror_mode": {
    "name": "ipython",
    "version": 3
   },
   "file_extension": ".py",
   "mimetype": "text/x-python",
   "name": "python",
   "nbconvert_exporter": "python",
   "pygments_lexer": "ipython3",
   "version": "3.9.7"
  },
  "orig_nbformat": 4
 },
 "nbformat": 4,
 "nbformat_minor": 2
}
