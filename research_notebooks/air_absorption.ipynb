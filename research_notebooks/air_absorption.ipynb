{
 "cells": [
  {
   "cell_type": "markdown",
   "metadata": {},
   "source": [
    "# Air Abrosption Filter"
   ]
  },
  {
   "cell_type": "code",
   "execution_count": 97,
   "metadata": {},
   "outputs": [],
   "source": [
    "import numpy as np\n",
    "import scipy.signal\n",
    "import matplotlib.pyplot as plt"
   ]
  },
  {
   "cell_type": "code",
   "execution_count": 98,
   "metadata": {},
   "outputs": [],
   "source": [
    "def compute_air_absorption_coeffs(T, p_s, rel_humidity, F):\n",
    "    ## Computes the air absorption coefficients alpha:\n",
    "    #   T: temperature in Kelvin\n",
    "    #   p_s: pressure in atm\n",
    "    #   rel_humidity: relative humidity as a percentage\n",
    "    #   F: frequencies to compute the coefficients for\n",
    "\n",
    "    T_0 = 293.15        # Absolute atmospheric temperature\n",
    "    p_s0 = 1            # Atmospheric Pressure in atm\n",
    "\n",
    "    Csat = -6.8346 * (T_0 / T) ** 1.261 + 4.6151\n",
    "    psat = 10 ** Csat\n",
    "    H = H = psat * rel_humidity * p_s0 / p_s\n",
    "    F_r0 = (p_s / p_s0) * (24 + 4.04 * 10**4 * H * (0.02 + H) / (0.391 + H))\n",
    "    F_rN = (p_s / p_s0) * (T_0 / T)**(1/2) * ( 9 + 280 * H * np.exp(-4.17 * ((T_0 / T)**(1/3) - 1)))\n",
    "    return 100 * F ** 2 * (((1.84*10**(-11))/((T_0 / T)**(1/2) * p_s / p_s0)) +\n",
    "            (T_0 / T)**(5/2) * ( (0.1068 * np.exp(-3352/T) * F_rN) / (F**2 + F_rN**2) +\n",
    "            (0.01278*np.exp(-2239.1 / T) * F_r0) / (F**2 + F_r0**2)))\n",
    "\n",
    "def compute_air_absorption_filter(F, abs_coeffs, numtaps):\n",
    "    norm_freqs = F / max(F)\n",
    "    filt_coeffs = scipy.signal.firwin2(numtaps, norm_freqs, abs_coeffs)\n",
    "    return filt_coeffs"
   ]
  },
  {
   "cell_type": "code",
   "execution_count": 99,
   "metadata": {},
   "outputs": [],
   "source": [
    "T_0 = 293.15        # Absolute atmospheric temperature\n",
    "T_celsius = 20      # Actual temperature\n",
    "T = T_celsius + 273.15\n",
    "\n",
    "p_s0 = 1            # Atmospheric Pressure in atm\n",
    "p_s = 1             # Actual pressure in atm\n",
    "\n",
    "hrar = 80           # Relative Humidity in %\n",
    "F = np.linspace(0, 4000, num=9)\n"
   ]
  },
  {
   "cell_type": "code",
   "execution_count": 100,
   "metadata": {},
   "outputs": [
    {
     "data": {
      "text/plain": [
       "array([ 1.08852769e-04, -2.28318167e-04,  3.38157593e-04, -9.67198759e-04,\n",
       "        1.42756588e-03, -3.60588279e-03,  5.76990471e-03, -1.41373109e-02,\n",
       "        3.32392301e-02, -1.64771089e-01,  2.98796305e-01, -1.64771089e-01,\n",
       "        3.32392301e-02, -1.41373109e-02,  5.76990471e-03, -3.60588279e-03,\n",
       "        1.42756588e-03, -9.67198759e-04,  3.38157593e-04, -2.28318167e-04,\n",
       "        1.08852769e-04])"
      ]
     },
     "execution_count": 100,
     "metadata": {},
     "output_type": "execute_result"
    }
   ],
   "source": [
    "numtaps = 21\n",
    "alpha = compute_air_absorption_coeffs(T, p_s, hrar, F)\n",
    "filt_coeffs = compute_air_absorption_filter(F, alpha, numtaps)\n",
    "w, H_fir = scipy.signal.freqz(filt_coeffs, a=1, worN = numtaps)\n",
    "filt_coeffs"
   ]
  },
  {
   "cell_type": "code",
   "execution_count": 6,
   "metadata": {},
   "outputs": [
    {
     "data": {
      "text/plain": [
       "([<matplotlib.axis.XTick at 0x12cb44670>,\n",
       "  <matplotlib.axis.XTick at 0x12cb44640>,\n",
       "  <matplotlib.axis.XTick at 0x12cb22f40>,\n",
       "  <matplotlib.axis.XTick at 0x12cc1bdc0>,\n",
       "  <matplotlib.axis.XTick at 0x12cc23550>],\n",
       " [Text(0.0, 0, '0'),\n",
       "  Text(0.25, 0, '$\\\\pi$/4'),\n",
       "  Text(0.5, 0, '$\\\\pi$/2'),\n",
       "  Text(0.75, 0, '3$\\\\pi$/4'),\n",
       "  Text(1.0, 0, '$\\\\pi$')])"
      ]
     },
     "execution_count": 6,
     "metadata": {},
     "output_type": "execute_result"
    },
    {
     "data": {
      "image/png": "[encoded data removed]",
      "text/plain": [
       "<Figure size 432x288 with 1 Axes>"
      ]
     },
     "metadata": {
      "needs_background": "light"
     },
     "output_type": "display_data"
    }
   ],
   "source": [
    "plt.figure()\n",
    "plt.subplots_adjust(left=0.125, right=1.5)\n",
    "\n",
    "plt.subplot(1,2,1)\n",
    "plt.plot(w / np.pi, (abs(H_fir)))\n",
    "plt.title('Magnitude Response Absorption Filter \\n Filter length: n = %d' %numtaps)\n",
    "# plt.title('Filter length: n = %d' %numtaps)\n",
    "plt.xlabel('Angular Frequency [rad/s]')\n",
    "plt.xticks(np.linspace(0, 1, 5), ['0', '$\\pi$/4','$\\pi$/2','3$\\pi$/4','$\\pi$'])\n",
    "\n",
    "# plt.subplot(1,2,2)\n",
    "# plt.plot(np.linspace(0,4,9), alpha)\n",
    "# plt.xlabel('Frequency [kHz]')\n",
    "# plt.title('Reflection Coefficients \\n ')\n",
    "# plt.show()"
   ]
  },
  {
   "cell_type": "code",
   "execution_count": null,
   "metadata": {},
   "outputs": [],
   "source": []
  }
 ],
 "metadata": {
  "interpreter": {
   "hash": "34473e775c900396242d372bc2d7dd0f22c6345a4c04ec50b7a0ad74cac5992f"
  },
  "kernelspec": {
   "display_name": "Python 3.9.7 64-bit ('outdoorSimulator': conda)",
   "language": "python",
   "name": "python3"
  },
  "language_info": {
   "codemirror_mode": {
    "name": "ipython",
    "version": 3
   },
   "file_extension": ".py",
   "mimetype": "text/x-python",
   "name": "python",
   "nbconvert_exporter": "python",
   "pygments_lexer": "ipython3",
   "version": "3.9.7"
  },
  "orig_nbformat": 4
 },
 "nbformat": 4,
 "nbformat_minor": 2
}
