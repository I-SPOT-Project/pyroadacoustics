{
 "cells": [
  {
   "cell_type": "markdown",
   "metadata": {},
   "source": [
    "# Test Different Interpolation Methods for Interpolated Reads"
   ]
  },
  {
   "cell_type": "code",
   "execution_count": 3,
   "metadata": {},
   "outputs": [],
   "source": [
    "import numpy as np\n",
    "import matplotlib.pyplot as plt\n",
    "import scipy.signal\n",
    "import math\n",
    "from scipy.io import wavfile"
   ]
  },
  {
   "cell_type": "code",
   "execution_count": 4,
   "metadata": {},
   "outputs": [],
   "source": [
    "def binomial(a,b):\n",
    "    from math import factorial\n",
    "    return factorial(a) // factorial(b) // factorial(a-b)\n",
    "\n",
    "def transmat(N):\n",
    "    T = np.zeros((N+1, N+1))\n",
    "    for n in range(N+1):\n",
    "        for m in range(N+1):\n",
    "            if n >= m:\n",
    "                T[m, n] = (round(N/2) ** (n-m)) * binomial(n,m)\n",
    "    return T"
   ]
  },
  {
   "cell_type": "code",
   "execution_count": 5,
   "metadata": {},
   "outputs": [
    {
     "name": "stdout",
     "output_type": "stream",
     "text": [
      "243.50569116992537\n"
     ]
    }
   ],
   "source": [
    "# Compute distance from microphone to line\n",
    "\n",
    "# Straight Trajectory between starting and end point\n",
    "P1 = np.array([3,10])\n",
    "P2 = np.array([3, -10])\n",
    "P3 = np.array([0,0])\n",
    "\n",
    "v = 5   # speed of sound source\n",
    "fs = 8000\n",
    "\n",
    "# Compute distance from MIC (origin) to line\n",
    "dline = np.abs((P2[0] - P1[0]) * (P1[1] - P3[1]) - (P1[0] - P3[0]) * (P2[1] - P1[1])) / np.sqrt(np.sum((P2-P1)**2))\n",
    "dline2 = dline ** 2\n",
    "# What happens when the line is exactly on the x or y axes?\n",
    "\n",
    "# Compute distance from P0 to projection of MIC on the line\n",
    "l2 = np.sum((P1-P2)**2)\n",
    "t = np.sum((P3 - P1) * (P2 - P1)) / l2\n",
    "P_proj = P1 + t * (P2 - P1)\n",
    "dproj = np.sqrt(np.sum((P1 - P_proj) ** 2))\n",
    "\n",
    "# Compute initial distance from MIC to P1\n",
    "dinit = np.sqrt(dproj ** 2 + dline ** 2)\n",
    "\n",
    "# Compute time delay in number of samples\n",
    "c = 343\n",
    "tau_init = dinit / c\n",
    "\n",
    "M_init = tau_init * fs\n",
    "print(M_init)\n",
    "\n",
    "delays_sec = []\n",
    "delays_smp = []\n",
    "delays_sec.append(tau_init)\n",
    "\n",
    "# Define delay line\n",
    "N = 48000\n",
    "A = np.zeros(N)\n",
    "\n",
    "# Windowed Sinc Function\n",
    "sinc_samples = 31\n",
    "sinc_window = np.hanning(sinc_samples)\n",
    "\n",
    "\n",
    "rptr = 0\n",
    "wptr = 0\n",
    "M = np.floor(M_init)    # Define initial delay\n",
    "delays_smp.append(M)\n",
    "# print(d)\n",
    "def set_delay(M):\n",
    "    global rptr\n",
    "    rptr = wptr - M\n",
    "    if (rptr < 0):\n",
    "        rptr += N\n",
    "\n",
    "def frac_delay_sinc(delay):\n",
    "    global sinc_samples\n",
    "    global sinc_window\n",
    "\n",
    "    return sinc_window * np.sinc(np.arange(0,sinc_samples) - (sinc_samples - 1) / 2 - delay)\n",
    "\n",
    "def frac_delay_lagrange(N, delay):\n",
    "    n = np.arange(0,N+1)\n",
    "    h = np.ones(N+1)\n",
    "\n",
    "    for k in range(0,N+1):\n",
    "        # Find index n != k\n",
    "        index = []\n",
    "        for j in range(0,N+1):\n",
    "            if j != k:\n",
    "                index.append(j)\n",
    "        \n",
    "        h[index] = h[index] * (delay - k) / (n[index] - k)\n",
    "\n",
    "    return h\n",
    "\n",
    "\n",
    "farrow_ord = 2   # Filter order\n",
    "U = np.vander(np.arange(farrow_ord + 1), increasing=True)    # Vandermonde Matrix\n",
    "farrow_poly = np.linalg.inv(U)    # Each row contains the coefficients of the polynomial Ck of the Farrow structure\n",
    "ya_alt = 0\n",
    "def delay_line(x):\n",
    "    global rptr\n",
    "    global wptr\n",
    "    global A\n",
    "    global v\n",
    "    global dproj\n",
    "    global c\n",
    "    global fs\n",
    "    global delays_smp\n",
    "    global farrow_poly\n",
    "    global ya_alt\n",
    "    \n",
    "    A[wptr] = x\n",
    "    wptr += 1\n",
    "\n",
    "    rpi = math.floor(rptr)\n",
    "    a = rptr - rpi\n",
    "    # Linear Interpolation\n",
    "    y1 = a * A[np.mod(rpi + 1, N)] + (1 - a) * A[rpi]\n",
    "    \n",
    "    # Sinc Interpolation -> Windowed Sinc function\n",
    "    h_sinc = frac_delay_sinc(a)\n",
    "    \n",
    "    y2 = 0\n",
    "    for i in range(0, sinc_samples):\n",
    "        y2 = y2 + h_sinc[i]*A[np.mod(rpi + i - math.floor(sinc_samples/2), len(A))]\n",
    "    \n",
    "    # Lagrange Interpolation\n",
    "    order = 3\n",
    "    h_lagrange = frac_delay_lagrange(order, 1 - a)\n",
    "\n",
    "    y3 = 0\n",
    "\n",
    "    for i in range(0, len(h_lagrange)):\n",
    "        y3 = y3 + h_lagrange[i] * A[np.mod(rpi - i - math.floor(order/2), len(A))]\n",
    "\n",
    "    # y4 = 0\n",
    "    # Farrow Structure Interpolation\n",
    "    # for i in range(len(farrow_poly)):\n",
    "    #     for j in range(len(farrow_poly)):\n",
    "    #         y4 = y4 + farrow_poly[i,j] * A[np.mod(rpi - j, len(A))] * (a) ** i\n",
    "    \n",
    "    # All-pass interpolation\n",
    "    y4 = A[rpi] + (a) * (A[np.mod(rpi + 1, N)] - ya_alt)\n",
    "    ya_alt = y4\n",
    "    # Update delay\n",
    "    dproj -= v / fs\n",
    "    \n",
    "    d = np.sqrt(dline2 + dproj ** 2)\n",
    "\n",
    "    tau = d / c\n",
    "    M = tau * fs\n",
    "    rptr = wptr - M\n",
    "\n",
    "    # For the plots, remove later\n",
    "    delays_sec.append(tau)\n",
    "    delays_smp.append(M)\n",
    "\n",
    "    if (rptr < 0):\n",
    "        rptr += N\n",
    "    if (wptr >= N):\n",
    "        wptr -= (N)\n",
    "    if (rptr >= N):\n",
    "        rptr -= (N)\n",
    "    return y1, y2, y3, y4, d, a\n",
    "\n",
    "set_delay(M)\n",
    "a = 0\n",
    "signal = 0\n",
    "## Test with signal\n",
    "# fs = 16000\n",
    "f = 3000\n",
    "\n",
    "time = np.arange(0, 4, 1/fs)\n",
    "\n",
    "# Sinusoidal\n",
    "signal = np.sin(2 * np.pi * f * time)\n",
    "\n",
    "# Noise\n",
    "# signal = np.random.randn(len(time))\n",
    "\n",
    "# Train impulse\n",
    "# signal = np.zeros_like(time)\n",
    "# signal[::500] = 1\n",
    "\n",
    "aa = np.zeros_like(signal)\n",
    "bb = np.zeros_like(signal)\n",
    "cc = np.zeros_like(signal)\n",
    "dd = np.zeros_like(signal)\n",
    "del_variation = np.zeros_like(signal)\n",
    "\n",
    "for i in range(0, len(signal)):\n",
    "    [sample1, sample2, sample3, sample4, d, del_variation[i]] = delay_line(signal[i])\n",
    "    attenuation = 1 / (4 * np.pi * d)\n",
    "    # attenuation = 1\n",
    "    aa[i] = attenuation * sample1\n",
    "    bb[i] = attenuation * sample2\n",
    "    cc[i] = attenuation * sample3\n",
    "    dd[i] = attenuation * sample4\n",
    "    # a[i] = delay_line(signal[i])"
   ]
  },
  {
   "cell_type": "code",
   "execution_count": 6,
   "metadata": {},
   "outputs": [
    {
     "data": {
      "image/png": "[encoded data removed]",
      "text/plain": [
       "<Figure size 432x288 with 1 Axes>"
      ]
     },
     "metadata": {
      "needs_background": "light"
     },
     "output_type": "display_data"
    },
    {
     "data": {
      "text/plain": [
       "Text(0.5, 1.0, 'FFT Allpass Interpolated Signal')"
      ]
     },
     "execution_count": 6,
     "metadata": {},
     "output_type": "execute_result"
    },
    {
     "data": {
      "image/png": "[encoded data removed]",
      "text/plain": [
       "<Figure size 1296x216 with 4 Axes>"
      ]
     },
     "metadata": {
      "needs_background": "light"
     },
     "output_type": "display_data"
    }
   ],
   "source": [
    "from scipy.io import wavfile\n",
    "import matplotlib.pyplot as plt\n",
    "from scipy import signal as sig\n",
    "\n",
    "ff, tt, Sxx = sig.spectrogram(aa, fs)\n",
    "# plt.subplot(2,1,1)\n",
    "plt.pcolormesh(tt, ff, Sxx, shading = 'auto')\n",
    "plt.title('Spectrogram')\n",
    "plt.xlabel('Time [s]')\n",
    "plt.ylabel('Frequency [Hz]')\n",
    "# plt.subplot(2,1,2)\n",
    "# plt.plot(range(0, 2048), a[1024:1024+2048])\n",
    "plt.show()\n",
    "\n",
    "wavfile.write('prova.wav', fs, 0.2*bb)\n",
    "\n",
    "# FFT of signals\n",
    "Nfft = 2048\n",
    "f_axis = np.linspace(0, fs / 2, int(Nfft / 2 + 1))\n",
    "fft_aa = np.fft.fft(aa, Nfft)\n",
    "fft_bb = np.fft.fft(bb, Nfft)\n",
    "fft_cc = np.fft.fft(cc, Nfft)\n",
    "fft_dd = np.fft.fft(dd, Nfft)\n",
    "\n",
    "fig, axes = plt.subplots(1,4, figsize = (18, 3))\n",
    "axes[0].plot(f_axis, abs(fft_aa[:int(Nfft/2 + 1)]))\n",
    "axes[0].set_xlabel('Frequency [Hz]')\n",
    "axes[0].set_title('FFT Linear Interpolated Signal')\n",
    "\n",
    "axes[1].plot(f_axis, abs(fft_bb[:int(Nfft/2 + 1)]))\n",
    "axes[1].set_xlabel('Frequency [Hz]')\n",
    "axes[1].set_title('FFT Sinc Interpolated Signal')\n",
    "\n",
    "axes[2].plot(f_axis, abs(fft_cc[:int(Nfft/2 + 1)]))\n",
    "axes[2].set_xlabel('Frequency [Hz]')\n",
    "axes[2].set_title('FFT Lagrange Interpolated Signal')\n",
    "\n",
    "axes[3].plot(f_axis, abs(fft_dd[:int(Nfft/2 + 1)]))\n",
    "axes[3].set_xlabel('Frequency [Hz]')\n",
    "axes[3].set_title('FFT Allpass Interpolated Signal')"
   ]
  },
  {
   "cell_type": "code",
   "execution_count": 9,
   "metadata": {},
   "outputs": [
    {
     "data": {
      "text/plain": [
       "0.9473330096496082"
      ]
     },
     "execution_count": 9,
     "metadata": {},
     "output_type": "execute_result"
    }
   ],
   "source": [
    "ya_alt"
   ]
  },
  {
   "cell_type": "code",
   "execution_count": 31,
   "metadata": {},
   "outputs": [
    {
     "data": {
      "text/plain": [
       "[<matplotlib.lines.Line2D at 0x12102de50>]"
      ]
     },
     "execution_count": 31,
     "metadata": {},
     "output_type": "execute_result"
    },
    {
     "data": {
      "image/png": "[encoded data removed]",
      "text/plain": [
       "<Figure size 1080x144 with 3 Axes>"
      ]
     },
     "metadata": {
      "needs_background": "light"
     },
     "output_type": "display_data"
    },
    {
     "data": {
      "image/png": "[encoded data removed]",
      "text/plain": [
       "<Figure size 432x288 with 1 Axes>"
      ]
     },
     "metadata": {
      "needs_background": "light"
     },
     "output_type": "display_data"
    }
   ],
   "source": [
    "nsamp = 2048\n",
    "\n",
    "fig, axes = plt.subplots(1,3, figsize = (15,2))\n",
    "axes[0].plot(aa[nsamp:nsamp + 32])\n",
    "axes[1].plot(bb[nsamp:nsamp + 32])\n",
    "axes[2].plot(cc[nsamp:nsamp + 32])\n",
    "\n",
    "plt.figure()\n",
    "plt.plot(aa[nsamp:nsamp + 32], 'b-')\n",
    "plt.plot(bb[nsamp:nsamp + 32], 'yo')\n",
    "plt.plot(cc[nsamp:nsamp + 32], 'gx')\n"
   ]
  },
  {
   "cell_type": "code",
   "execution_count": 32,
   "metadata": {},
   "outputs": [
    {
     "name": "stdout",
     "output_type": "stream",
     "text": [
      "0.0\n",
      "0.0\n"
     ]
    },
    {
     "data": {
      "text/plain": [
       "3037.4978189999997"
      ]
     },
     "execution_count": 32,
     "metadata": {},
     "output_type": "execute_result"
    },
    {
     "data": {
      "image/png": "[encoded data removed]",
      "text/plain": [
       "<Figure size 432x288 with 1 Axes>"
      ]
     },
     "metadata": {
      "needs_background": "light"
     },
     "output_type": "display_data"
    }
   ],
   "source": [
    "plt.plot(delays_smp[1:])\n",
    "print(delays_smp[1] - delays_smp[2])\n",
    "print(delays_sec[1] - delays_sec[2])\n",
    "(1+0.012499273)*3000\n"
   ]
  },
  {
   "cell_type": "markdown",
   "metadata": {},
   "source": [
    "## Farrow Structure"
   ]
  },
  {
   "cell_type": "code",
   "execution_count": 33,
   "metadata": {},
   "outputs": [],
   "source": [
    "N = 1   # Filter order\n",
    "U = np.vander(np.arange(N + 1), increasing=True)    # Vandermonde Matrix\n",
    "Q = np.linalg.inv(U)    # Each row contains the coefficients of the polynomial Ck of the Farrow structure\n",
    "\n",
    "def frac_delay_lagrange(N, delay):\n",
    "    n = np.arange(0,N+1)\n",
    "    h = np.ones(N+1)\n",
    "\n",
    "    for k in range(0,N+1):\n",
    "        # Find index n != k\n",
    "        index = []\n",
    "        for j in range(0,N+1):\n",
    "            if j != k:\n",
    "                index.append(j)\n",
    "        \n",
    "        h[index] = h[index] * (delay - k) / (n[index] - k)\n",
    "\n",
    "    return h\n",
    "\n",
    "def frac_delay_farrow(D):\n",
    "    # n = np.arange(0,N+1)\n",
    "    h = np.ones(N+1)\n",
    "\n",
    "    return h"
   ]
  },
  {
   "cell_type": "code",
   "execution_count": 34,
   "metadata": {},
   "outputs": [
    {
     "name": "stdout",
     "output_type": "stream",
     "text": [
      "0.0\n",
      "0.0\n",
      "0.0\n",
      "0.0\n"
     ]
    }
   ],
   "source": [
    "print(del_variation[2] - del_variation[1])\n",
    "print(del_variation[3] - del_variation[2])\n",
    "print(del_variation[4] - del_variation[3])\n",
    "print(del_variation[2000] - del_variation[1999])"
   ]
  },
  {
   "cell_type": "code",
   "execution_count": 35,
   "metadata": {},
   "outputs": [
    {
     "name": "stdout",
     "output_type": "stream",
     "text": [
      "[[ 1.    -0.     0.   ]\n",
      " [ 0.     1.8   -0.   ]\n",
      " [ 0.    -0.81   0.405]]\n",
      "1.0\n"
     ]
    }
   ],
   "source": [
    "def getfdfcoef(N, D):\n",
    "    # Input arguments:\n",
    "    #   - N: Filter Order\n",
    "    #   - D: delay in sample\n",
    "    # Output:\n",
    "    #   - fdfcoef: Filter coefficient\n",
    "    #   - M: Non-zero sample index\n",
    "    \n",
    "    U = np.vander(np.arange(N + 1), increasing=True)    # Vandermonde Matrix\n",
    "    Q = np.linalg.inv(U)\n",
    "    T = transmat(N)\n",
    "\n",
    "    # print(T)\n",
    "    Qf = T*Q\n",
    "    \n",
    "    # Fractional delay: d\n",
    "    # The first non-zero sample index: M\n",
    "    d = D % 1\n",
    "    if np.mod(N,2)==0:  # even\n",
    "        M = round(D+0.5) - N/2\n",
    "    else:  # odd\n",
    "        M = np.floor(D) - (N-1)/2\n",
    "    \n",
    "    fdfcoef = (pow(d, np.arange(N + 1)).T * Qf).T\n",
    "    return fdfcoef, M\n",
    "\n",
    "N = 2\n",
    "delay = 1.9\n",
    "\n",
    "fdcoef, M = getfdfcoef(N, delay)\n",
    "print(fdcoef)\n",
    "print(M)"
   ]
  },
  {
   "cell_type": "code",
   "execution_count": 36,
   "metadata": {},
   "outputs": [
    {
     "data": {
      "text/plain": [
       "array([1, 2, 4])"
      ]
     },
     "execution_count": 36,
     "metadata": {},
     "output_type": "execute_result"
    }
   ],
   "source": [
    "a = pow(2, np.array([0,1,2]))\n",
    "a"
   ]
  },
  {
   "cell_type": "code",
   "execution_count": 37,
   "metadata": {},
   "outputs": [
    {
     "data": {
      "text/plain": [
       "0.0"
      ]
     },
     "execution_count": 37,
     "metadata": {},
     "output_type": "execute_result"
    }
   ],
   "source": [
    "np.floor(0.5)"
   ]
  },
  {
   "cell_type": "code",
   "execution_count": null,
   "metadata": {},
   "outputs": [],
   "source": []
  }
 ],
 "metadata": {
  "interpreter": {
   "hash": "34473e775c900396242d372bc2d7dd0f22c6345a4c04ec50b7a0ad74cac5992f"
  },
  "kernelspec": {
   "display_name": "Python 3.9.7 64-bit ('outdoorSimulator': conda)",
   "language": "python",
   "name": "python3"
  },
  "language_info": {
   "codemirror_mode": {
    "name": "ipython",
    "version": 3
   },
   "file_extension": ".py",
   "mimetype": "text/x-python",
   "name": "python",
   "nbconvert_exporter": "python",
   "pygments_lexer": "ipython3",
   "version": "3.9.7"
  },
  "orig_nbformat": 4
 },
 "nbformat": 4,
 "nbformat_minor": 2
}
