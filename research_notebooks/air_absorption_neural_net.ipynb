{
 "cells": [
  {
   "cell_type": "code",
   "execution_count": 99,
   "metadata": {},
   "outputs": [],
   "source": [
    "import math\n",
    "import numpy as np\n",
    "import scipy.signal\n",
    "import pandas as pd\n"
   ]
  },
  {
   "cell_type": "code",
   "execution_count": 3,
   "metadata": {},
   "outputs": [],
   "source": [
    "def compute_air_absorption_coefficients(T, p, rel_hum, freqs):\n",
    "        \"\"\"\n",
    "        Computes air absorption coefficients at a set of nbands equispaced frequencies in the range `[0, fs]`, based\n",
    "        on the ISO 9613-1 standard. \n",
    "\n",
    "        A different formulation can be found in \n",
    "        `Keith Attenborough, \"Sound Propagation in the Atmosphere\", Springer Handbook of Acoustics`, and can be set\n",
    "        by using T01 = 293.15\n",
    "        The coefficients depend on the atmsopsheric temperature, pressure and relative humidity.\n",
    "\n",
    "        Parameters\n",
    "        ----------\n",
    "        nbands: int\n",
    "            Number of frequency bands in which to compute air absorption coefficients, by default 50\n",
    "\n",
    "        Returns\n",
    "        -------\n",
    "        np.ndarray\n",
    "            1D Array containing nbands air absorption coefficients, computed in dB scale, at the defined \n",
    "            set of frequencies\n",
    "\n",
    "        \"\"\"\n",
    "\n",
    "        T0 = 293.15     # Standard room temperature T = 20deg Celsius\n",
    "        T01 = 273.16    # Triple point isotherm temperature, ISO 9613-1\n",
    "        T = T + 273.15\n",
    "        ps0 = 1         # Standard atmospheric pressure in atm\n",
    "\n",
    "        f = freqs # np.linspace(0, fs, num=nbands)     # Frequencies in which coeffs will be computed\n",
    "        \n",
    "        Csat = -6.8346 * math.pow(T01 / T, 1.261) + 4.6151\n",
    "        rhosat = math.pow(10, Csat)\n",
    "        H = rhosat * rel_hum * ps0 / p\n",
    "\n",
    "        frn = (p / ps0) * math.pow(T0 / T, 0.5) * (\n",
    "                9 + 280 * H * math.exp(-4.17 * (math.pow(T0 / T, 1/3.) - 1)))\n",
    "\n",
    "        fro = (p / ps0) * (24.0 + 4.04e4 * H * (0.02 + H) / (0.391 + H))\n",
    "\n",
    "        alpha = f * f * (\n",
    "            1.84e-11 / ( math.pow(T0 / T, 0.5) * p / ps0 )\n",
    "            + math.pow(T / T0, -2.5)\n",
    "            * (\n",
    "                0.10680 * math.exp(-3352 / T) * frn / (f * f + frn * frn)\n",
    "                + 0.01278 * math.exp(-2239.1 / T) * fro / (f * f + fro * fro)\n",
    "                )\n",
    "            )\n",
    "        \n",
    "        return alpha * 20 / np.log(10)\n",
    "\n",
    "def compute_air_absorption_filter(alpha, freqs, distance, numtaps):\n",
    "        \"\"\"\n",
    "        Computes air absorption filter as a FIR filter with `numtaps` coefficients. The filter depends\n",
    "        on the distance travelled by the sound wave between the source and the receiver.\n",
    "\n",
    "        Parameters\n",
    "        ----------\n",
    "        distance : float\n",
    "            Distance travelled by the sound wave, in meters\n",
    "        numtaps : int\n",
    "            Number of coefficients of the FIR filter\n",
    "\n",
    "        Returns\n",
    "        -------\n",
    "        np.ndarray\n",
    "            1D array containing `numtaps` FIR filter coefficients modelling air absorption\n",
    "        \"\"\"\n",
    "\n",
    "        alpha_lin = 10 ** (-alpha * distance / 20)     # Convert coeffs in dB to linear scale\n",
    "        freqs_norm = freqs / max(freqs)\n",
    "        filt_coeffs = scipy.signal.firwin2(numtaps, freqs_norm, alpha_lin)\n",
    "        \n",
    "        return filt_coeffs"
   ]
  },
  {
   "cell_type": "code",
   "execution_count": 62,
   "metadata": {},
   "outputs": [
    {
     "data": {
      "text/plain": [
       "array([[ 8.38634575e-05, -1.85702754e-04,  1.02496287e-03,\n",
       "        -3.37783948e-03,  2.11923385e-02,  9.57727940e-01,\n",
       "         2.11923385e-02, -3.37783948e-03,  1.02496287e-03,\n",
       "        -1.85702754e-04,  8.38634575e-05]])"
      ]
     },
     "execution_count": 62,
     "metadata": {},
     "output_type": "execute_result"
    }
   ],
   "source": [
    "# Parameters\n",
    "T = 20\n",
    "p = 1\n",
    "rel_hum = 50\n",
    "fs = 8000\n",
    "numbands = 8\n",
    "freqs = np.linspace(0, fs, numbands)\n",
    "alpha = compute_air_absorption_coefficients(T, p, rel_hum, freqs)\n",
    "\n",
    "# Distance\n",
    "d = 10\n",
    "\n",
    "# Filter\n",
    "coeffs = compute_air_absorption_filter(alpha, freqs, d, 11)\n",
    "np.reshape(coeffs, (1,11))"
   ]
  },
  {
   "cell_type": "code",
   "execution_count": 84,
   "metadata": {},
   "outputs": [
    {
     "name": "stdout",
     "output_type": "stream",
     "text": [
      "(16, 8)\n",
      "[[0.         0.00110474 0.00170841 0.00271411 0.00412204 0.00593221\n",
      "  0.00814463 0.01075932]\n",
      " [0.         0.00110474 0.00170841 0.00271411 0.00412204 0.00593221\n",
      "  0.00814463 0.01075932]\n",
      " [0.         0.00110474 0.00170841 0.00271411 0.00412204 0.00593221\n",
      "  0.00814463 0.01075932]\n",
      " [0.         0.00110474 0.00170841 0.00271411 0.00412204 0.00593221\n",
      "  0.00814463 0.01075932]\n",
      " [0.         0.00567815 0.00635442 0.00737378 0.0087865  0.01059889\n",
      "  0.01281253 0.01542794]\n",
      " [0.         0.00567815 0.00635442 0.00737378 0.0087865  0.01059889\n",
      "  0.01281253 0.01542794]\n",
      " [0.         0.00567815 0.00635442 0.00737378 0.0087865  0.01059889\n",
      "  0.01281253 0.01542794]\n",
      " [0.         0.00567815 0.00635442 0.00737378 0.0087865  0.01059889\n",
      "  0.01281253 0.01542794]\n",
      " [0.         0.00112487 0.00172966 0.0027372  0.00414771 0.00596121\n",
      "  0.00817769 0.01079718]\n",
      " [0.         0.00112487 0.00172966 0.0027372  0.00414771 0.00596121\n",
      "  0.00817769 0.01079718]\n",
      " [0.         0.00112487 0.00172966 0.0027372  0.00414771 0.00596121\n",
      "  0.00817769 0.01079718]\n",
      " [0.         0.00112487 0.00172966 0.0027372  0.00414771 0.00596121\n",
      "  0.00817769 0.01079718]\n",
      " [0.         0.00632266 0.00702553 0.00805159 0.00946861 0.01128512\n",
      "  0.01350325 0.01612372]\n",
      " [0.         0.00632266 0.00702553 0.00805159 0.00946861 0.01128512\n",
      "  0.01350325 0.01612372]\n",
      " [0.         0.00632266 0.00702553 0.00805159 0.00946861 0.01128512\n",
      "  0.01350325 0.01612372]\n",
      " [0.         0.00632266 0.00702553 0.00805159 0.00946861 0.01128512\n",
      "  0.01350325 0.01612372]]\n"
     ]
    }
   ],
   "source": [
    "# Create dataset\n",
    "T = np.arange(-1,1)       # Range of temperatures\n",
    "p = 1\n",
    "rel_hum = np.arange(0,10,5)\n",
    "d = np.arange(0,2,0.5)\n",
    "\n",
    "# alpha = np.zeros((len(T), len(rel_hum), numbands))\n",
    "coeffs = np.empty((0, 11))\n",
    "abs_coeffs = np.empty((0, numbands))\n",
    "for i in range(len(T)):\n",
    "    for j in range(len(rel_hum)):\n",
    "        alpha = compute_air_absorption_coefficients(T[i],p, rel_hum[j], freqs)\n",
    "        abs_coeffs = np.append(abs_coeffs, np.tile(np.reshape(alpha, (1,numbands)), (len(d),1)), axis = 0)\n",
    "        for k in range(len(d)):\n",
    "            coeffs = np.append(coeffs, np.reshape(compute_air_absorption_filter(alpha, freqs, d[k], numtaps=11), (1,11)), axis = 0)\n",
    "\n",
    "print(np.shape(abs_coeffs))\n",
    "print(abs_coeffs)\n"
   ]
  },
  {
   "cell_type": "code",
   "execution_count": 69,
   "metadata": {},
   "outputs": [
    {
     "name": "stdout",
     "output_type": "stream",
     "text": [
      "[[ 8.38634575e-05 -1.85702754e-04  1.02496287e-03 -3.37783948e-03\n",
      "   2.11923385e-02  9.57727940e-01  2.11923385e-02 -3.37783948e-03\n",
      "   1.02496287e-03 -1.85702754e-04  8.38634575e-05]\n",
      " [ 8.38634575e-05 -1.85702754e-04  1.02496287e-03 -3.37783948e-03\n",
      "   2.11923385e-02  9.57727940e-01  2.11923385e-02 -3.37783948e-03\n",
      "   1.02496287e-03 -1.85702754e-04  8.38634575e-05]\n",
      " [ 8.38634575e-05 -1.85702754e-04  1.02496287e-03 -3.37783948e-03\n",
      "   2.11923385e-02  9.57727940e-01  2.11923385e-02 -3.37783948e-03\n",
      "   1.02496287e-03 -1.85702754e-04  8.38634575e-05]\n",
      " [ 8.38634575e-05 -1.85702754e-04  1.02496287e-03 -3.37783948e-03\n",
      "   2.11923385e-02  9.57727940e-01  2.11923385e-02 -3.37783948e-03\n",
      "   1.02496287e-03 -1.85702754e-04  8.38634575e-05]\n",
      " [ 8.38634575e-05 -1.85702754e-04  1.02496287e-03 -3.37783948e-03\n",
      "   2.11923385e-02  9.57727940e-01  2.11923385e-02 -3.37783948e-03\n",
      "   1.02496287e-03 -1.85702754e-04  8.38634575e-05]\n",
      " [ 8.38634575e-05 -1.85702754e-04  1.02496287e-03 -3.37783948e-03\n",
      "   2.11923385e-02  9.57727940e-01  2.11923385e-02 -3.37783948e-03\n",
      "   1.02496287e-03 -1.85702754e-04  8.38634575e-05]\n",
      " [ 8.38634575e-05 -1.85702754e-04  1.02496287e-03 -3.37783948e-03\n",
      "   2.11923385e-02  9.57727940e-01  2.11923385e-02 -3.37783948e-03\n",
      "   1.02496287e-03 -1.85702754e-04  8.38634575e-05]\n",
      " [ 8.38634575e-05 -1.85702754e-04  1.02496287e-03 -3.37783948e-03\n",
      "   2.11923385e-02  9.57727940e-01  2.11923385e-02 -3.37783948e-03\n",
      "   1.02496287e-03 -1.85702754e-04  8.38634575e-05]\n",
      " [ 8.38634575e-05 -1.85702754e-04  1.02496287e-03 -3.37783948e-03\n",
      "   2.11923385e-02  9.57727940e-01  2.11923385e-02 -3.37783948e-03\n",
      "   1.02496287e-03 -1.85702754e-04  8.38634575e-05]\n",
      " [ 8.38634575e-05 -1.85702754e-04  1.02496287e-03 -3.37783948e-03\n",
      "   2.11923385e-02  9.57727940e-01  2.11923385e-02 -3.37783948e-03\n",
      "   1.02496287e-03 -1.85702754e-04  8.38634575e-05]]\n"
     ]
    }
   ],
   "source": [
    "coeffs = compute_air_absorption_filter(alpha, freqs, d, 11)\n",
    "coeffs_exp = np.tile(np.reshape(coeffs, (1,11)), (10,1))\n",
    "test = np.empty((0,11), float)\n",
    "test = np.append(test, coeffs_exp, axis = 0)\n",
    "print(test)\n"
   ]
  },
  {
   "cell_type": "code",
   "execution_count": 79,
   "metadata": {},
   "outputs": [
    {
     "name": "stdout",
     "output_type": "stream",
     "text": [
      "1\n",
      "2\n",
      "3\n",
      "4\n"
     ]
    }
   ],
   "source": [
    "counter = 0\n",
    "for i in range(len(T)):\n",
    "    for j in range(len(rel_hum)):\n",
    "        counter +=1\n",
    "        print(counter)"
   ]
  },
  {
   "cell_type": "code",
   "execution_count": 98,
   "metadata": {},
   "outputs": [
    {
     "name": "stdout",
     "output_type": "stream",
     "text": [
      "T=-1rel_hum=0d=0.0\n",
      "[0.         0.00110474 0.00170841 0.00271411 0.00412204 0.00593221\n",
      " 0.00814463 0.01075932]\n",
      "0.0\n",
      "[ 8.05336877e-18 -3.49412546e-17  6.80497046e-17 -6.79669532e-17\n",
      "  2.11940188e-16  1.00000000e+00 -2.08775839e-16  6.48256990e-17\n",
      " -7.45165152e-17  3.49412546e-17 -8.27962252e-18]\n"
     ]
    }
   ],
   "source": [
    "id = 'T=' + str(T[0]) + 'rel_hum=' + str(rel_hum[0]) + 'd='+str(d[0])\n",
    "print(id)\n",
    "\n",
    "alpha = abs_coeffs[0]\n",
    "print(alpha)\n",
    "print(d[0])\n",
    "print(coeffs[0])"
   ]
  },
  {
   "cell_type": "code",
   "execution_count": 110,
   "metadata": {},
   "outputs": [
    {
     "name": "stdout",
     "output_type": "stream",
     "text": [
      "<class 'numpy.ndarray'>\n"
     ]
    }
   ],
   "source": [
    "data = {'id': id, 'alpha': list(alpha), 'distance': d[0], 'absorption_filter': coeffs[0]}\n",
    "# df = pd.DataFrame(data)\n",
    "print(type(alpha))"
   ]
  },
  {
   "cell_type": "code",
   "execution_count": 107,
   "metadata": {},
   "outputs": [
    {
     "name": "stdout",
     "output_type": "stream",
     "text": [
      "7\n"
     ]
    }
   ],
   "source": [
    "Mfcc = np.arange(1,11,1)\n",
    "Mfcc =  np.reshape(Mfcc, (-1, 2))\n",
    "Mel_spec = np.arange(1,10,2)\n",
    "\n",
    "df = pd.DataFrame({'mfcc': list(Mfcc), 'mel_spectogram': Mel_spec})\n",
    "\n",
    "df.mfcc[1], df.mel_spectogram[1]\n",
    "print(df.mel_spectogram[3])"
   ]
  },
  {
   "cell_type": "code",
   "execution_count": null,
   "metadata": {},
   "outputs": [],
   "source": []
  }
 ],
 "metadata": {
  "interpreter": {
   "hash": "34473e775c900396242d372bc2d7dd0f22c6345a4c04ec50b7a0ad74cac5992f"
  },
  "kernelspec": {
   "display_name": "Python 3.9.7 ('outdoorSimulator')",
   "language": "python",
   "name": "python3"
  },
  "language_info": {
   "codemirror_mode": {
    "name": "ipython",
    "version": 3
   },
   "file_extension": ".py",
   "mimetype": "text/x-python",
   "name": "python",
   "nbconvert_exporter": "python",
   "pygments_lexer": "ipython3",
   "version": "3.9.7"
  },
  "orig_nbformat": 4
 },
 "nbformat": 4,
 "nbformat_minor": 2
}
