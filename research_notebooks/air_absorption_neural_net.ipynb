{
 "cells": [
  {
   "cell_type": "code",
   "execution_count": 6,
   "metadata": {},
   "outputs": [],
   "source": [
    "import math\n",
    "import numpy as np\n",
    "import scipy.signal\n",
    "import pandas as pd\n",
    "import csv\n"
   ]
  },
  {
   "cell_type": "code",
   "execution_count": 7,
   "metadata": {},
   "outputs": [],
   "source": [
    "def compute_air_absorption_coefficients(T, p, rel_hum, freqs):\n",
    "        \"\"\"\n",
    "        Computes air absorption coefficients at a set of nbands equispaced frequencies in the range `[0, fs]`, based\n",
    "        on the ISO 9613-1 standard. \n",
    "\n",
    "        A different formulation can be found in \n",
    "        `Keith Attenborough, \"Sound Propagation in the Atmosphere\", Springer Handbook of Acoustics`, and can be set\n",
    "        by using T01 = 293.15\n",
    "        The coefficients depend on the atmsopsheric temperature, pressure and relative humidity.\n",
    "\n",
    "        Parameters\n",
    "        ----------\n",
    "        nbands: int\n",
    "            Number of frequency bands in which to compute air absorption coefficients, by default 50\n",
    "\n",
    "        Returns\n",
    "        -------\n",
    "        np.ndarray\n",
    "            1D Array containing nbands air absorption coefficients, computed in dB scale, at the defined \n",
    "            set of frequencies\n",
    "\n",
    "        \"\"\"\n",
    "\n",
    "        T0 = 293.15     # Standard room temperature T = 20deg Celsius\n",
    "        T01 = 273.16    # Triple point isotherm temperature, ISO 9613-1\n",
    "        T = T + 273.15\n",
    "        ps0 = 1         # Standard atmospheric pressure in atm\n",
    "\n",
    "        f = freqs # np.linspace(0, fs, num=nbands)     # Frequencies in which coeffs will be computed\n",
    "        \n",
    "        Csat = -6.8346 * math.pow(T01 / T, 1.261) + 4.6151\n",
    "        rhosat = math.pow(10, Csat)\n",
    "        H = rhosat * rel_hum * ps0 / p\n",
    "\n",
    "        frn = (p / ps0) * math.pow(T0 / T, 0.5) * (\n",
    "                9 + 280 * H * math.exp(-4.17 * (math.pow(T0 / T, 1/3.) - 1)))\n",
    "\n",
    "        fro = (p / ps0) * (24.0 + 4.04e4 * H * (0.02 + H) / (0.391 + H))\n",
    "\n",
    "        alpha = f * f * (\n",
    "            1.84e-11 / ( math.pow(T0 / T, 0.5) * p / ps0 )\n",
    "            + math.pow(T / T0, -2.5)\n",
    "            * (\n",
    "                0.10680 * math.exp(-3352 / T) * frn / (f * f + frn * frn)\n",
    "                + 0.01278 * math.exp(-2239.1 / T) * fro / (f * f + fro * fro)\n",
    "                )\n",
    "            )\n",
    "        \n",
    "        return alpha * 20 / np.log(10)\n",
    "\n",
    "def compute_air_absorption_filter(alpha, freqs, distance, numtaps):\n",
    "        \"\"\"\n",
    "        Computes air absorption filter as a FIR filter with `numtaps` coefficients. The filter depends\n",
    "        on the distance travelled by the sound wave between the source and the receiver.\n",
    "\n",
    "        Parameters\n",
    "        ----------\n",
    "        distance : float\n",
    "            Distance travelled by the sound wave, in meters\n",
    "        numtaps : int\n",
    "            Number of coefficients of the FIR filter\n",
    "\n",
    "        Returns\n",
    "        -------\n",
    "        np.ndarray\n",
    "            1D array containing `numtaps` FIR filter coefficients modelling air absorption\n",
    "        \"\"\"\n",
    "\n",
    "        alpha_lin = 10 ** (-alpha * distance / 20)     # Convert coeffs in dB to linear scale\n",
    "        freqs_norm = freqs / max(freqs)\n",
    "        filt_coeffs = scipy.signal.firwin2(numtaps, freqs_norm, alpha_lin)\n",
    "        \n",
    "        return filt_coeffs"
   ]
  },
  {
   "cell_type": "code",
   "execution_count": 17,
   "metadata": {},
   "outputs": [
    {
     "data": {
      "text/plain": [
       "array([[ 6.38159572e-06, -7.46507571e-06,  7.34304137e-05,\n",
       "        -1.69455098e-04,  1.19788090e-03,  9.97292653e-01,\n",
       "         1.19788090e-03, -1.69455098e-04,  7.34304137e-05,\n",
       "        -7.46507571e-06,  6.38159572e-06]])"
      ]
     },
     "execution_count": 17,
     "metadata": {},
     "output_type": "execute_result"
    }
   ],
   "source": [
    "# Parameters\n",
    "T = 20\n",
    "p = 1\n",
    "rel_hum = 50\n",
    "fs = 8000\n",
    "numbands = 50\n",
    "freqs = np.linspace(0, fs / 2, numbands)\n",
    "alpha = compute_air_absorption_coefficients(T, p, rel_hum, freqs)\n",
    "\n",
    "# Distance\n",
    "d = 2\n",
    "\n",
    "# Filter\n",
    "coeffs = compute_air_absorption_filter(alpha, freqs, d, 11)\n",
    "np.reshape(coeffs, (1,11))"
   ]
  },
  {
   "cell_type": "code",
   "execution_count": 19,
   "metadata": {},
   "outputs": [
    {
     "data": {
      "text/plain": [
       "array([ 6.38159572e-06, -7.46507571e-06,  7.34304137e-05, -1.69455098e-04,\n",
       "        1.19788090e-03,  9.97292653e-01,  1.19788090e-03, -1.69455098e-04,\n",
       "        7.34304137e-05, -7.46507571e-06,  6.38159572e-06])"
      ]
     },
     "execution_count": 19,
     "metadata": {},
     "output_type": "execute_result"
    }
   ],
   "source": [
    "coeffs"
   ]
  },
  {
   "cell_type": "code",
   "execution_count": 10,
   "metadata": {},
   "outputs": [
    {
     "name": "stdout",
     "output_type": "stream",
     "text": [
      "(16, 8)\n"
     ]
    }
   ],
   "source": [
    "# Create dataset\n",
    "T = np.arange(-1,1)       # Range of temperatures\n",
    "p = 1\n",
    "rel_hum = np.arange(0,10,5)\n",
    "d = np.arange(0,2,0.5)\n",
    "\n",
    "# alpha = np.zeros((len(T), len(rel_hum), numbands))\n",
    "coeffs = np.empty((0, 11))\n",
    "abs_coeffs = np.empty((0, numbands))\n",
    "for i in range(len(T)):\n",
    "    for j in range(len(rel_hum)):\n",
    "        alpha = compute_air_absorption_coefficients(T[i],p, rel_hum[j], freqs)\n",
    "        abs_coeffs = np.append(abs_coeffs, np.tile(np.reshape(alpha, (1,numbands)), (len(d),1)), axis = 0)\n",
    "        for k in range(len(d)):\n",
    "            coeffs = np.append(coeffs, np.reshape(compute_air_absorption_filter(alpha, freqs, d[k], numtaps=11), (1,11)), axis = 0)\n",
    "\n",
    "print(np.shape(abs_coeffs))\n",
    "# print(abs_coeffs)\n"
   ]
  },
  {
   "cell_type": "code",
   "execution_count": 11,
   "metadata": {},
   "outputs": [],
   "source": [
    "## Define a CSV File\n",
    "n_abs_coeffs = 8\n",
    "filt_taps = 11\n",
    "header = 'id'\n",
    "for i in range(0,n_abs_coeffs):\n",
    "    header += f' alpha{i}'\n",
    "header += ' distance'\n",
    "for i in range(0,filt_taps):\n",
    "    header += f' h{i}'\n",
    "header = header.split()"
   ]
  },
  {
   "cell_type": "code",
   "execution_count": 12,
   "metadata": {},
   "outputs": [],
   "source": [
    "file = open('data.csv', 'w', newline = '')\n",
    "with file:\n",
    "    writer = csv.writer(file)\n",
    "    writer.writerow(header)"
   ]
  },
  {
   "cell_type": "code",
   "execution_count": 13,
   "metadata": {},
   "outputs": [
    {
     "ename": "KeyboardInterrupt",
     "evalue": "",
     "output_type": "error",
     "traceback": [
      "\u001b[0;31m---------------------------------------------------------------------------\u001b[0m",
      "\u001b[0;31mKeyboardInterrupt\u001b[0m                         Traceback (most recent call last)",
      "\u001b[0;32m/var/folders/49/32jmkqsd7034c_6y1h_xgk080000gn/T/ipykernel_21376/1070701611.py\u001b[0m in \u001b[0;36m<module>\u001b[0;34m\u001b[0m\n\u001b[1;32m     19\u001b[0m             \u001b[0mto_append\u001b[0m \u001b[0;34m=\u001b[0m \u001b[0mid\u001b[0m \u001b[0;34m+\u001b[0m \u001b[0;34mf'd_{d[k]}'\u001b[0m\u001b[0;34m\u001b[0m\u001b[0;34m\u001b[0m\u001b[0m\n\u001b[1;32m     20\u001b[0m             \u001b[0m_coeffs\u001b[0m \u001b[0;34m=\u001b[0m \u001b[0mcompute_air_absorption_filter\u001b[0m\u001b[0;34m(\u001b[0m\u001b[0malpha\u001b[0m\u001b[0;34m,\u001b[0m \u001b[0mfreqs\u001b[0m\u001b[0;34m,\u001b[0m \u001b[0md\u001b[0m\u001b[0;34m[\u001b[0m\u001b[0mk\u001b[0m\u001b[0;34m]\u001b[0m\u001b[0;34m,\u001b[0m \u001b[0mnumtaps\u001b[0m\u001b[0;34m=\u001b[0m\u001b[0mfilt_taps\u001b[0m\u001b[0;34m)\u001b[0m\u001b[0;34m\u001b[0m\u001b[0;34m\u001b[0m\u001b[0m\n\u001b[0;32m---> 21\u001b[0;31m             \u001b[0mcoeffs\u001b[0m \u001b[0;34m=\u001b[0m \u001b[0mnp\u001b[0m\u001b[0;34m.\u001b[0m\u001b[0mappend\u001b[0m\u001b[0;34m(\u001b[0m\u001b[0mcoeffs\u001b[0m\u001b[0;34m,\u001b[0m \u001b[0mnp\u001b[0m\u001b[0;34m.\u001b[0m\u001b[0mreshape\u001b[0m\u001b[0;34m(\u001b[0m\u001b[0m_coeffs\u001b[0m\u001b[0;34m,\u001b[0m \u001b[0;34m(\u001b[0m\u001b[0;36m1\u001b[0m\u001b[0;34m,\u001b[0m\u001b[0mfilt_taps\u001b[0m\u001b[0;34m)\u001b[0m\u001b[0;34m)\u001b[0m\u001b[0;34m,\u001b[0m \u001b[0maxis\u001b[0m \u001b[0;34m=\u001b[0m \u001b[0;36m0\u001b[0m\u001b[0;34m)\u001b[0m\u001b[0;34m\u001b[0m\u001b[0;34m\u001b[0m\u001b[0m\n\u001b[0m\u001b[1;32m     22\u001b[0m \u001b[0;34m\u001b[0m\u001b[0m\n\u001b[1;32m     23\u001b[0m             \u001b[0;32mfor\u001b[0m \u001b[0me\u001b[0m \u001b[0;32min\u001b[0m \u001b[0malpha\u001b[0m\u001b[0;34m:\u001b[0m\u001b[0;34m\u001b[0m\u001b[0;34m\u001b[0m\u001b[0m\n",
      "\u001b[0;32m<__array_function__ internals>\u001b[0m in \u001b[0;36mappend\u001b[0;34m(*args, **kwargs)\u001b[0m\n",
      "\u001b[0;32m/usr/local/Caskroom/miniforge/base/envs/outdoorSimulator/lib/python3.9/site-packages/numpy/lib/function_base.py\u001b[0m in \u001b[0;36mappend\u001b[0;34m(arr, values, axis)\u001b[0m\n\u001b[1;32m   4815\u001b[0m         \u001b[0mvalues\u001b[0m \u001b[0;34m=\u001b[0m \u001b[0mravel\u001b[0m\u001b[0;34m(\u001b[0m\u001b[0mvalues\u001b[0m\u001b[0;34m)\u001b[0m\u001b[0;34m\u001b[0m\u001b[0;34m\u001b[0m\u001b[0m\n\u001b[1;32m   4816\u001b[0m         \u001b[0maxis\u001b[0m \u001b[0;34m=\u001b[0m \u001b[0marr\u001b[0m\u001b[0;34m.\u001b[0m\u001b[0mndim\u001b[0m\u001b[0;34m-\u001b[0m\u001b[0;36m1\u001b[0m\u001b[0;34m\u001b[0m\u001b[0;34m\u001b[0m\u001b[0m\n\u001b[0;32m-> 4817\u001b[0;31m     \u001b[0;32mreturn\u001b[0m \u001b[0mconcatenate\u001b[0m\u001b[0;34m(\u001b[0m\u001b[0;34m(\u001b[0m\u001b[0marr\u001b[0m\u001b[0;34m,\u001b[0m \u001b[0mvalues\u001b[0m\u001b[0;34m)\u001b[0m\u001b[0;34m,\u001b[0m \u001b[0maxis\u001b[0m\u001b[0;34m=\u001b[0m\u001b[0maxis\u001b[0m\u001b[0;34m)\u001b[0m\u001b[0;34m\u001b[0m\u001b[0;34m\u001b[0m\u001b[0m\n\u001b[0m\u001b[1;32m   4818\u001b[0m \u001b[0;34m\u001b[0m\u001b[0m\n\u001b[1;32m   4819\u001b[0m \u001b[0;34m\u001b[0m\u001b[0m\n",
      "\u001b[0;32m<__array_function__ internals>\u001b[0m in \u001b[0;36mconcatenate\u001b[0;34m(*args, **kwargs)\u001b[0m\n",
      "\u001b[0;31mKeyboardInterrupt\u001b[0m: "
     ]
    }
   ],
   "source": [
    "# Create dataset\n",
    "fs = 8000\n",
    "freqs = np.linspace(0, fs, n_abs_coeffs)\n",
    "\n",
    "T = np.arange(-20,40)         # Range of temperatures\n",
    "p = 1\n",
    "rel_hum = np.arange(0,100) # Range of relative humidities\n",
    "d = np.arange(0,100,0.5)      # Range of distances\n",
    "\n",
    "coeffs = np.empty((0, filt_taps))\n",
    "abs_coeffs = np.empty((0, n_abs_coeffs))\n",
    "for i in range(len(T)):\n",
    "    for j in range(len(rel_hum)):\n",
    "        alpha = compute_air_absorption_coefficients(T[i],p, rel_hum[j], freqs)\n",
    "        id = f'T_{T[i]}p_{p}h_{rel_hum[j]}'\n",
    "        \n",
    "        abs_coeffs = np.append(abs_coeffs, np.tile(np.reshape(alpha, (1,n_abs_coeffs)), (len(d),1)), axis = 0)\n",
    "        for k in range(len(d)):\n",
    "            to_append = id + f'd_{d[k]}'\n",
    "            _coeffs = compute_air_absorption_filter(alpha, freqs, d[k], numtaps=filt_taps)\n",
    "            coeffs = np.append(coeffs, np.reshape(_coeffs, (1,filt_taps)), axis = 0)\n",
    "            \n",
    "            for e in alpha:\n",
    "                to_append += f' {e}'\n",
    "            to_append += f' {d[k]}'\n",
    "            for e in _coeffs:\n",
    "                to_append += f' {e}'\n",
    "            \n",
    "            file = open('data.csv', 'a', newline = '')\n",
    "            with file:\n",
    "                writer = csv.writer(file)\n",
    "                writer.writerow(to_append.split())\n",
    "\n",
    "print(np.shape(coeffs))"
   ]
  },
  {
   "cell_type": "code",
   "execution_count": null,
   "metadata": {},
   "outputs": [],
   "source": []
  }
 ],
 "metadata": {
  "interpreter": {
   "hash": "34473e775c900396242d372bc2d7dd0f22c6345a4c04ec50b7a0ad74cac5992f"
  },
  "kernelspec": {
   "display_name": "Python 3.9.7 ('outdoorSimulator')",
   "language": "python",
   "name": "python3"
  },
  "language_info": {
   "codemirror_mode": {
    "name": "ipython",
    "version": 3
   },
   "file_extension": ".py",
   "mimetype": "text/x-python",
   "name": "python",
   "nbconvert_exporter": "python",
   "pygments_lexer": "ipython3",
   "version": "3.9.7"
  },
  "orig_nbformat": 4
 },
 "nbformat": 4,
 "nbformat_minor": 2
}
