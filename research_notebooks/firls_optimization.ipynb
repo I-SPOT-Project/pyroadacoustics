{
 "cells": [
  {
   "cell_type": "code",
   "execution_count": 5,
   "metadata": {},
   "outputs": [],
   "source": [
    "import numpy as np\n",
    "import scipy.signal\n",
    "import math"
   ]
  },
  {
   "cell_type": "code",
   "execution_count": 6,
   "metadata": {},
   "outputs": [],
   "source": [
    "def compute_air_absorption_coefficients(T, p, rel_hum, freqs):\n",
    "        \"\"\"\n",
    "        Computes air absorption coefficients at a set of nbands equispaced frequencies in the range `[0, fs]`, based\n",
    "        on the ISO 9613-1 standard. \n",
    "\n",
    "        A different formulation can be found in \n",
    "        `Keith Attenborough, \"Sound Propagation in the Atmosphere\", Springer Handbook of Acoustics`, and can be set\n",
    "        by using T01 = 293.15\n",
    "        The coefficients depend on the atmsopsheric temperature, pressure and relative humidity.\n",
    "\n",
    "        Parameters\n",
    "        ----------\n",
    "        nbands: int\n",
    "            Number of frequency bands in which to compute air absorption coefficients, by default 50\n",
    "\n",
    "        Returns\n",
    "        -------\n",
    "        np.ndarray\n",
    "            1D Array containing nbands air absorption coefficients, computed in dB scale, at the defined \n",
    "            set of frequencies\n",
    "\n",
    "        \"\"\"\n",
    "\n",
    "        T0 = 293.15     # Standard room temperature T = 20deg Celsius\n",
    "        T01 = 273.16    # Triple point isotherm temperature, ISO 9613-1\n",
    "        T = T + 273.15\n",
    "        ps0 = 1         # Standard atmospheric pressure in atm\n",
    "\n",
    "        f = freqs # np.linspace(0, fs, num=nbands)     # Frequencies in which coeffs will be computed\n",
    "        \n",
    "        Csat = -6.8346 * math.pow(T01 / T, 1.261) + 4.6151\n",
    "        rhosat = math.pow(10, Csat)\n",
    "        H = rhosat * rel_hum * ps0 / p\n",
    "\n",
    "        frn = (p / ps0) * math.pow(T0 / T, 0.5) * (\n",
    "                9 + 280 * H * math.exp(-4.17 * (math.pow(T0 / T, 1/3.) - 1)))\n",
    "\n",
    "        fro = (p / ps0) * (24.0 + 4.04e4 * H * (0.02 + H) / (0.391 + H))\n",
    "\n",
    "        alpha = f * f * (\n",
    "            1.84e-11 / ( math.pow(T0 / T, 0.5) * p / ps0 )\n",
    "            + math.pow(T / T0, -2.5)\n",
    "            * (\n",
    "                0.10680 * math.exp(-3352 / T) * frn / (f * f + frn * frn)\n",
    "                + 0.01278 * math.exp(-2239.1 / T) * fro / (f * f + fro * fro)\n",
    "                )\n",
    "            )\n",
    "        \n",
    "        return alpha * 20 / np.log(10)\n",
    "\n",
    "def compute_air_absorption_filter(alpha, freqs, distance, numtaps):\n",
    "        \"\"\"\n",
    "        Computes air absorption filter as a FIR filter with `numtaps` coefficients. The filter depends\n",
    "        on the distance travelled by the sound wave between the source and the receiver.\n",
    "\n",
    "        Parameters\n",
    "        ----------\n",
    "        distance : float\n",
    "            Distance travelled by the sound wave, in meters\n",
    "        numtaps : int\n",
    "            Number of coefficients of the FIR filter\n",
    "\n",
    "        Returns\n",
    "        -------\n",
    "        np.ndarray\n",
    "            1D array containing `numtaps` FIR filter coefficients modelling air absorption\n",
    "        \"\"\"\n",
    "\n",
    "        alpha_lin = 10 ** (-alpha * distance / 20)     # Convert coeffs in dB to linear scale\n",
    "        freqs_norm = freqs / max(freqs)\n",
    "        filt_coeffs = scipy.signal.firls(numtaps, freqs_norm, alpha_lin)\n",
    "        \n",
    "        return filt_coeffs"
   ]
  },
  {
   "cell_type": "code",
   "execution_count": 7,
   "metadata": {},
   "outputs": [
    {
     "name": "stdout",
     "output_type": "stream",
     "text": [
      "(11,)\n",
      "0.0006000995635986328\n"
     ]
    }
   ],
   "source": [
    "# Parameters\n",
    "T = 20\n",
    "p = 1\n",
    "rel_hum = 75\n",
    "fs = 8000\n",
    "numbands = 50\n",
    "freqs = np.linspace(0, fs / 2, numbands)\n",
    "alpha = compute_air_absorption_coefficients(T, p, rel_hum, freqs)\n",
    "\n",
    "# Distance\n",
    "d = 2\n",
    "\n",
    "# Filter\n",
    "import time\n",
    "start_time = time.time()\n",
    "coeffs = compute_air_absorption_filter(alpha, freqs, d, 11)\n",
    "print(np.shape(coeffs))\n",
    "print(time.time() - start_time)"
   ]
  },
  {
   "cell_type": "code",
   "execution_count": 128,
   "metadata": {},
   "outputs": [],
   "source": [
    "## Manual firls implementation\n",
    "\n",
    "# Frequency grid\n",
    "w = 2 * np.pi * freqs / (fs/2)\n",
    "\n",
    "# Filter order\n",
    "L = 10\n",
    "\n",
    "# Matrix A\n",
    "A = np.zeros((len(w),int(L/2 + 1)))\n",
    "A[:,0] = 1\n",
    "for i in range(len(w)):\n",
    "    for j in range(1,int(L/2 + 1)):\n",
    "        A[i,j] = 2 * math.cos(w[i] * j)"
   ]
  },
  {
   "cell_type": "code",
   "execution_count": 129,
   "metadata": {},
   "outputs": [
    {
     "data": {
      "text/plain": [
       "[<matplotlib.lines.Line2D at 0x138a61ac0>]"
      ]
     },
     "execution_count": 129,
     "metadata": {},
     "output_type": "execute_result"
    },
    {
     "data": {
      "image/png": "[encoded data removed]",
      "text/plain": [
       "<Figure size 432x288 with 1 Axes>"
      ]
     },
     "metadata": {
      "needs_background": "light"
     },
     "output_type": "display_data"
    }
   ],
   "source": [
    "import matplotlib.pyplot as plt\n",
    "plt.plot(A[40])"
   ]
  },
  {
   "cell_type": "code",
   "execution_count": 163,
   "metadata": {},
   "outputs": [],
   "source": [
    "alpha_lin = 10 ** (-alpha * d / 20)     # Convert coeffs in dB to linear scale\n",
    "pseud_A = np.linalg.inv(A.T.dot(A)).dot(A.T)\n",
    "h_hat = pseud_A.dot(alpha_lin)\n",
    "# h_hat2 = np.linalg.lstsq(A,alpha_lin, rcond = -1)\n",
    "h_hat = np.append(np.flip(h_hat[1:]), h_hat)"
   ]
  },
  {
   "cell_type": "code",
   "execution_count": 169,
   "metadata": {},
   "outputs": [
    {
     "name": "stdout",
     "output_type": "stream",
     "text": [
      "Norm of difference:  0.0015301583182920108\n"
     ]
    },
    {
     "data": {
      "image/png": "[encoded data removed]",
      "text/plain": [
       "<Figure size 432x288 with 1 Axes>"
      ]
     },
     "metadata": {
      "needs_background": "light"
     },
     "output_type": "display_data"
    }
   ],
   "source": [
    "plt.plot(coeffs)\n",
    "plt.plot(h_hat,'--')\n",
    "plt.legend(['FIRLS', 'Dot Product'])\n",
    "plt.title('Comparison of FIRLS and Manual LS')\n",
    "plt.xlabel('Coeff index n')\n",
    "plt.ylabel('h [n]')\n",
    "print('Norm of difference: ', np.linalg.norm(coeffs - h_hat))"
   ]
  },
  {
   "cell_type": "code",
   "execution_count": 174,
   "metadata": {},
   "outputs": [
    {
     "name": "stdout",
     "output_type": "stream",
     "text": [
      "Computational Time Manual LS Method:\n",
      "281 ns ± 0.812 ns per loop (mean ± std. dev. of 7 runs, 1000000 loops each)\n",
      "----------------------------------------------------------------------------\n",
      "\n",
      "Computational Time FIRLS Method: \n",
      "84.8 µs ± 155 ns per loop (mean ± std. dev. of 7 runs, 10000 loops each)\n"
     ]
    }
   ],
   "source": [
    "# Computational Comparison\n",
    "import timeit\n",
    "alpha_lin = 10 ** (-alpha * d / 20)     # Convert coeffs in dB to linear scale\n",
    "\n",
    "# Dot product\n",
    "# start_time = time.time()\n",
    "print('Computational Time Manual LS Method:')\n",
    "%timeit h_hat = pseud_A.dot(alpha_lin)\n",
    "print('----------------------------------------------------------------------------\\n')\n",
    "# print(time.time() - start_time)\n",
    "\n",
    "# Firls\n",
    "# start_time = time.time()\n",
    "print('Computational Time FIRLS Method: ')\n",
    "%timeit h_hat2 = scipy.signal.firls(L+1, freqs, alpha_lin, fs = fs)\n",
    "# print(time.time() - start_time)\n"
   ]
  },
  {
   "cell_type": "code",
   "execution_count": null,
   "metadata": {},
   "outputs": [],
   "source": []
  }
 ],
 "metadata": {
  "interpreter": {
   "hash": "34473e775c900396242d372bc2d7dd0f22c6345a4c04ec50b7a0ad74cac5992f"
  },
  "kernelspec": {
   "display_name": "Python 3.9.7 ('outdoorSimulator')",
   "language": "python",
   "name": "python3"
  },
  "language_info": {
   "codemirror_mode": {
    "name": "ipython",
    "version": 3
   },
   "file_extension": ".py",
   "mimetype": "text/x-python",
   "name": "python",
   "nbconvert_exporter": "python",
   "pygments_lexer": "ipython3",
   "version": "3.9.7"
  },
  "orig_nbformat": 4
 },
 "nbformat": 4,
 "nbformat_minor": 2
}
