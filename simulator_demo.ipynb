{
 "cells": [
  {
   "cell_type": "markdown",
   "metadata": {},
   "source": [
    "# Tutorial and Demo"
   ]
  },
  {
   "cell_type": "markdown",
   "metadata": {},
   "source": []
  },
  {
   "cell_type": "code",
   "execution_count": 1,
   "metadata": {},
   "outputs": [],
   "source": [
    "# Explain the goal of the simulator and the usecase it is designed for\n",
    "\n",
    "# Show the architecture of the simulator\n",
    "\n",
    "# Explain the filtering steps\n"
   ]
  },
  {
   "cell_type": "code",
   "execution_count": 2,
   "metadata": {},
   "outputs": [],
   "source": [
    "# Tutorial on how to set up the simulation\n",
    "\n",
    "# Definition of the environment\n",
    "\n",
    "# Definition of the length of the filters and of the interpolation (accuracy vs performance)\n",
    "\n",
    "# Definition of source signals and background noise to be added to the simulation\n",
    "\n",
    "# Generation of microphone received signals"
   ]
  },
  {
   "cell_type": "code",
   "execution_count": 3,
   "metadata": {},
   "outputs": [
    {
     "data": {
      "text/plain": [
       "[<matplotlib.lines.Line2D at 0x11dfd4280>]"
      ]
     },
     "execution_count": 3,
     "metadata": {},
     "output_type": "execute_result"
    },
    {
     "data": {
      "image/png": "[encoded data removed]",
      "text/plain": [
       "<Figure size 432x288 with 1 Axes>"
      ]
     },
     "metadata": {
      "needs_background": "light"
     },
     "output_type": "display_data"
    }
   ],
   "source": [
    "# Define simulation environment with moving source and random signal\n",
    "import pyroadacoustics as pyroad\n",
    "import numpy as np\n",
    "env = pyroad.Environment()\n",
    "env.add_source(np.array([3,5,1]))\n",
    "env.add_microphone_array(np.array([[0,0,1]]))\n",
    "\n",
    "signal = env.simulate()\n",
    "# Run simulation and plot signals received at microphone array\n",
    "import matplotlib.pyplot as plt\n",
    "plt.plot(signal[0])\n",
    "\n",
    "# Plot spectrogram of received signal to show doppler\n",
    "\n",
    "# Show comb filtering effect using FFT representations\n",
    "\n",
    "# Listen to signal produced by simulator"
   ]
  },
  {
   "cell_type": "code",
   "execution_count": null,
   "metadata": {},
   "outputs": [],
   "source": []
  },
  {
   "cell_type": "code",
   "execution_count": null,
   "metadata": {},
   "outputs": [],
   "source": []
  }
 ],
 "metadata": {
  "interpreter": {
   "hash": "34473e775c900396242d372bc2d7dd0f22c6345a4c04ec50b7a0ad74cac5992f"
  },
  "kernelspec": {
   "display_name": "Python 3.9.7 ('outdoorSimulator')",
   "language": "python",
   "name": "python3"
  },
  "language_info": {
   "codemirror_mode": {
    "name": "ipython",
    "version": 3
   },
   "file_extension": ".py",
   "mimetype": "text/x-python",
   "name": "python",
   "nbconvert_exporter": "python",
   "pygments_lexer": "ipython3",
   "version": "3.9.7"
  },
  "orig_nbformat": 4
 },
 "nbformat": 4,
 "nbformat_minor": 2
}
