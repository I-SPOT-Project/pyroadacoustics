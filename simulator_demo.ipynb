{
 "cells": [
  {
   "cell_type": "markdown",
   "metadata": {},
   "source": [
    "# Tutorial and Demo"
   ]
  },
  {
   "cell_type": "markdown",
   "metadata": {},
   "source": [
    "## Simulator Block Scheme\n",
    "\n",
    "- Absorption filters and reflection filter are now time varying $\\longrightarrow$ cannot be swapped\n",
    "- We need two delay line blocks to implement the whole model\n",
    "    - Higher computational complexity\n",
    "    - Double Interpolation operation\n",
    "    - Higher physical accuracy"
   ]
  },
  {
   "cell_type": "markdown",
   "metadata": {},
   "source": [
    "<img src='block_scheme.png'>"
   ]
  },
  {
   "cell_type": "markdown",
   "metadata": {},
   "source": [
    "## Filters Implementation"
   ]
  },
  {
   "cell_type": "code",
   "execution_count": 36,
   "metadata": {},
   "outputs": [],
   "source": [
    "# Explain the goal of the simulator and the usecase it is designed for\n",
    "\n",
    "# Show the architecture of the simulator\n",
    "\n",
    "# Explain the filtering steps\n"
   ]
  },
  {
   "cell_type": "code",
   "execution_count": 1,
   "metadata": {},
   "outputs": [],
   "source": [
    "# Tutorial on how to set up the simulation\n",
    "\n",
    "# Definition of the environment\n",
    "\n",
    "# Definition of the length of the filters and of the interpolation (accuracy vs performance)\n",
    "\n",
    "# Definition of source signals and background noise to be added to the simulation\n",
    "\n",
    "# Generation of microphone received signals"
   ]
  },
  {
   "cell_type": "markdown",
   "metadata": {},
   "source": []
  },
  {
   "cell_type": "code",
   "execution_count": 1,
   "metadata": {},
   "outputs": [
    {
     "name": "stderr",
     "output_type": "stream",
     "text": [
      "/Users/stefano/Documents/KU Leuven/python-projects/outdoorSimulator/pyroadacoustics/simulatorManager.py:398: RuntimeWarning: divide by zero encountered in true_divide\n",
      "  Z = - Z0 * (refl + 1) / (refl-1)\n",
      "/Users/stefano/Documents/KU Leuven/python-projects/outdoorSimulator/pyroadacoustics/simulatorManager.py:408: RuntimeWarning: invalid value encountered in true_divide\n",
      "  R = np.abs((Z * np.cos(math.radians(theta)) - Z0) / (Z * np.cos(math.radians(theta)) + Z0))\n"
     ]
    },
    {
     "name": "stdout",
     "output_type": "stream",
     "text": [
      "[-0.95691328 -0.18071603]\n"
     ]
    },
    {
     "data": {
      "text/plain": [
       "[<matplotlib.lines.Line2D at 0x1214f1ee0>]"
      ]
     },
     "execution_count": 1,
     "metadata": {},
     "output_type": "execute_result"
    },
    {
     "data": {
      "image/png": "[encoded data removed]",
      "text/plain": [
       "<Figure size 432x288 with 1 Axes>"
      ]
     },
     "metadata": {
      "needs_background": "light"
     },
     "output_type": "display_data"
    }
   ],
   "source": [
    "# Define simulation environment with moving source and random signal\n",
    "import pyroadacoustics as pyroad\n",
    "import numpy as np\n",
    "fs = 8000\n",
    "t = np.arange(0,5,1/fs)\n",
    "f = 3000\n",
    "env = pyroad.Environment(fs = fs)\n",
    "src_signal = np.sin(2 * np.pi * f * t)\n",
    "# src_signal = np.random.randn(len(t))\n",
    "env.add_source(np.array([3,5,1]), trajectory_points=np.array([[3,10,1], [3,-10,1]]), source_velocity=np.array([5]), signal=src_signal)\n",
    "env.add_microphone_array(np.array([[0,0,1]]))\n",
    "env.set_simulation_params(\"Allpass\", False, False)\n",
    "signal = env.simulate()\n",
    "\n",
    "# Run simulation and plot signals received at microphone array\n",
    "import matplotlib.pyplot as plt\n",
    "plt.plot(signal[0])\n",
    "\n",
    "# Plot spectrogram of received signal to show doppler\n",
    "\n",
    "# Show comb filtering effect using FFT representations\n",
    "\n",
    "# Listen to signal produced by simulator"
   ]
  },
  {
   "cell_type": "code",
   "execution_count": 2,
   "metadata": {},
   "outputs": [
    {
     "data": {
      "text/plain": [
       "[<matplotlib.lines.Line2D at 0x15b93b8e0>]"
      ]
     },
     "execution_count": 2,
     "metadata": {},
     "output_type": "execute_result"
    },
    {
     "data": {
      "image/png": "[encoded data removed]",
      "text/plain": [
       "<Figure size 432x288 with 1 Axes>"
      ]
     },
     "metadata": {
      "needs_background": "light"
     },
     "output_type": "display_data"
    },
    {
     "data": {
      "image/png": "[encoded data removed]",
      "text/plain": [
       "<Figure size 432x288 with 1 Axes>"
      ]
     },
     "metadata": {
      "needs_background": "light"
     },
     "output_type": "display_data"
    }
   ],
   "source": [
    "import scipy.signal\n",
    "from scipy.io.wavfile import write\n",
    "ff, tt, Sxx = scipy.signal.spectrogram(signal[0], fs = fs)\n",
    "plt.figure()\n",
    "plt.pcolormesh(tt, ff, Sxx, shading='auto')\n",
    "write('output.wav', fs, signal[0])\n",
    "\n",
    "\n",
    "Nfft = 2048\n",
    "f_axis = np.linspace(0, fs / 2, int(Nfft / 2 + 1))\n",
    "fft_signal = np.fft.fft(signal[0], Nfft)\n",
    "plt.figure()\n",
    "plt.plot(f_axis, abs(fft_signal[:int(Nfft/2 + 1)]))\n",
    "\n"
   ]
  },
  {
   "cell_type": "code",
   "execution_count": null,
   "metadata": {},
   "outputs": [],
   "source": []
  },
  {
   "cell_type": "code",
   "execution_count": null,
   "metadata": {},
   "outputs": [],
   "source": []
  },
  {
   "cell_type": "code",
   "execution_count": null,
   "metadata": {},
   "outputs": [],
   "source": []
  }
 ],
 "metadata": {
  "interpreter": {
   "hash": "34473e775c900396242d372bc2d7dd0f22c6345a4c04ec50b7a0ad74cac5992f"
  },
  "kernelspec": {
   "display_name": "Python 3.9.7 ('outdoorSimulator')",
   "language": "python",
   "name": "python3"
  },
  "language_info": {
   "codemirror_mode": {
    "name": "ipython",
    "version": 3
   },
   "file_extension": ".py",
   "mimetype": "text/x-python",
   "name": "python",
   "nbconvert_exporter": "python",
   "pygments_lexer": "ipython3",
   "version": "3.9.7"
  },
  "orig_nbformat": 4
 },
 "nbformat": 4,
 "nbformat_minor": 2
}
