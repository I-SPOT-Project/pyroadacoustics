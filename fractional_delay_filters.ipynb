{
 "cells": [
  {
   "cell_type": "markdown",
   "metadata": {},
   "source": [
    "# Test Different Interpolation Methods for Interpolated Reads"
   ]
  },
  {
   "cell_type": "code",
   "execution_count": 129,
   "metadata": {},
   "outputs": [],
   "source": [
    "import numpy as np\n",
    "import matplotlib.pyplot as plt\n",
    "import scipy.signal\n",
    "import math\n",
    "from scipy.io import wavfile"
   ]
  },
  {
   "cell_type": "code",
   "execution_count": 130,
   "metadata": {},
   "outputs": [
    {
     "name": "stdout",
     "output_type": "stream",
     "text": [
      "471.6909251581734\n"
     ]
    }
   ],
   "source": [
    "# Compute distance from microphone to line\n",
    "\n",
    "# Straight Trajectory between starting and end point\n",
    "P1 = np.array([3,20])\n",
    "P2 = np.array([3, -5])\n",
    "P3 = np.array([0,0])\n",
    "\n",
    "v = 5   # speed of sound source\n",
    "fs = 8000\n",
    "\n",
    "# Compute distance from MIC (origin) to line\n",
    "dline = np.abs((P2[0] - P1[0]) * (P1[1] - P3[1]) - (P1[0] - P3[0]) * (P2[1] - P1[1])) / np.sqrt(np.sum((P2-P1)**2))\n",
    "dline2 = dline ** 2\n",
    "# What happens when the line is exactly on the x or y axes?\n",
    "\n",
    "# Compute distance from P0 to projection of MIC on the line\n",
    "l2 = np.sum((P1-P2)**2)\n",
    "t = np.sum((P3 - P1) * (P2 - P1)) / l2\n",
    "P_proj = P1 + t * (P2 - P1)\n",
    "dproj = np.sqrt(np.sum((P1 - P_proj) ** 2))\n",
    "\n",
    "# Compute initial distance from MIC to P1\n",
    "dinit = np.sqrt(dproj ** 2 + dline ** 2)\n",
    "\n",
    "# Compute time delay in number of samples\n",
    "c = 343\n",
    "tau_init = dinit / c\n",
    "\n",
    "M_init = tau_init * fs\n",
    "print(M_init)\n",
    "\n",
    "delays_sec = []\n",
    "delays_smp = []\n",
    "delays_sec.append(tau_init)\n",
    "\n",
    "# Define delay line\n",
    "N = 1024\n",
    "A = np.zeros(N)\n",
    "\n",
    "# Windowed Sinc Function\n",
    "sinc_samples = 81\n",
    "sinc_window = np.hanning(sinc_samples)\n",
    "\n",
    "\n",
    "rptr = 0\n",
    "wptr = 0\n",
    "M = np.floor(M_init)    # Define initial delay\n",
    "delays_smp.append(M)\n",
    "# print(d)\n",
    "def set_delay(M):\n",
    "    global rptr\n",
    "    rptr = wptr - M\n",
    "    if (rptr < 0):\n",
    "        rptr += N\n",
    "\n",
    "def frac_delay_sinc(delay):\n",
    "    global sinc_samples\n",
    "    global sinc_window\n",
    "\n",
    "    return sinc_window * np.sinc(np.arange(0,sinc_samples) - (sinc_samples - 1) / 2 - delay)\n",
    "\n",
    "def frac_delay_lagrange(N, delay):\n",
    "    n = np.arange(0,N+1)\n",
    "    h = np.ones(N+1)\n",
    "\n",
    "    for k in range(0,N+1):\n",
    "        # Find index n != k\n",
    "        index = []\n",
    "        for j in range(0,N+1):\n",
    "            if j != k:\n",
    "                index.append(j)\n",
    "        \n",
    "        h[index] = h[index] * (delay - k) / (n[index] - k)\n",
    "\n",
    "    return h\n",
    "\n",
    "def delay_line(x):\n",
    "    global rptr\n",
    "    global wptr\n",
    "    global A\n",
    "    global v\n",
    "    global dproj\n",
    "    global c\n",
    "    global fs\n",
    "    global delays_smp\n",
    "    \n",
    "    A[wptr] = x\n",
    "    wptr += 1\n",
    "\n",
    "    rpi = math.floor(rptr)\n",
    "    a = rptr - rpi\n",
    "    # Linear Interpolation\n",
    "    y1 = a * A[rpi + 1] + (1 - a) * A[rpi]\n",
    "    \n",
    "    # Sinc Interpolation -> Windowed Sinc function\n",
    "    h_sinc = frac_delay_sinc(a)\n",
    "    \n",
    "    y2 = 0\n",
    "    for i in range(0, sinc_samples):\n",
    "        y2 = y2 + h_sinc[i]*A[np.mod(rpi + i - math.floor(sinc_samples/2), len(A))]\n",
    "    \n",
    "    # Lagrange Interpolation\n",
    "    order = 9\n",
    "    h_lagrange = frac_delay_lagrange(order, a)\n",
    "    y3 = 0\n",
    "\n",
    "    for i in range(0, len(h_lagrange)):\n",
    "        y3 = y3 + h_lagrange[i] * A[np.mod(rpi + i, len(A))]\n",
    "\n",
    "    # Update delay\n",
    "    dproj -= v / fs\n",
    "    \n",
    "    d = dline2 + dproj ** 2 \n",
    "    tau = np.sqrt(d) / c\n",
    "    M = tau * fs\n",
    "    rptr = wptr - M\n",
    "\n",
    "    # For the plots, remove later\n",
    "    delays_sec.append(tau)\n",
    "    delays_smp.append(M)\n",
    "\n",
    "    if (rptr < 0):\n",
    "        rptr += N\n",
    "    if (wptr >= N - 1):\n",
    "        wptr -= (N)\n",
    "    if (rptr >= N - 1):\n",
    "        rptr -= (N)\n",
    "    return y1, y2, y3, d\n",
    "\n",
    "set_delay(M)\n",
    "a = 0\n",
    "signal = 0\n",
    "## Test with signal\n",
    "fs = 8000\n",
    "f = 2200\n",
    "\n",
    "time = np.arange(0, 6, 1/fs)\n",
    "\n",
    "# Sinusoidal\n",
    "signal = np.sin(2 * np.pi * f * time)\n",
    "\n",
    "# Noise\n",
    "# signal = np.random.randn(len(time))\n",
    "\n",
    "# Train impulse\n",
    "# signal = np.zeros_like(time)\n",
    "# signal[::500] = 1\n",
    "\n",
    "aa = np.zeros_like(signal)\n",
    "bb = np.zeros_like(signal)\n",
    "cc = np.zeros_like(signal)\n",
    "for i in range(0, len(signal)):\n",
    "    [sample1, sample2, sample3, d] = delay_line(signal[i])\n",
    "    attenuation = 1 # / (4 * np.pi * d)\n",
    "    # attenuation = 1\n",
    "    aa[i] = attenuation * sample1\n",
    "    bb[i] = attenuation * sample2\n",
    "    cc[i] = attenuation * sample3\n",
    "    # a[i] = delay_line(signal[i])"
   ]
  },
  {
   "cell_type": "code",
   "execution_count": 131,
   "metadata": {},
   "outputs": [
    {
     "data": {
      "image/png": "[encoded data removed]",
      "text/plain": [
       "<Figure size 432x288 with 1 Axes>"
      ]
     },
     "metadata": {
      "needs_background": "light"
     },
     "output_type": "display_data"
    },
    {
     "data": {
      "text/plain": [
       "Text(0.5, 1.0, 'FFT Lagrange Interpolated Signal')"
      ]
     },
     "execution_count": 131,
     "metadata": {},
     "output_type": "execute_result"
    },
    {
     "data": {
      "image/png": "[encoded data removed]",
      "text/plain": [
       "<Figure size 1080x216 with 3 Axes>"
      ]
     },
     "metadata": {
      "needs_background": "light"
     },
     "output_type": "display_data"
    }
   ],
   "source": [
    "from scipy.io import wavfile\n",
    "import matplotlib.pyplot as plt\n",
    "from scipy import signal as sig\n",
    "\n",
    "ff, tt, Sxx = sig.spectrogram(bb, fs)\n",
    "# plt.subplot(2,1,1)\n",
    "plt.pcolormesh(tt, ff, Sxx, shading = 'auto')\n",
    "plt.title('Spectrogram')\n",
    "plt.xlabel('Time [s]')\n",
    "plt.ylabel('Frequency [Hz]')\n",
    "# plt.subplot(2,1,2)\n",
    "# plt.plot(range(0, 2048), a[1024:1024+2048])\n",
    "plt.show()\n",
    "\n",
    "wavfile.write('prova.wav', fs, 0.2*cc)\n",
    "\n",
    "# FFT of signals\n",
    "Nfft = 2048\n",
    "f_axis = np.linspace(0, fs / 2, int(Nfft / 2 + 1))\n",
    "fft_aa = np.fft.fft(aa, Nfft)\n",
    "fft_bb = np.fft.fft(bb, Nfft)\n",
    "fft_cc = np.fft.fft(cc, Nfft)\n",
    "\n",
    "fig, axes = plt.subplots(1,3, figsize = (15, 3))\n",
    "axes[0].plot(f_axis, abs(fft_aa[:int(Nfft/2 + 1)]))\n",
    "axes[0].set_xlabel('Frequency [Hz]')\n",
    "axes[0].set_title('FFT Linear Interpolated Signal')\n",
    "\n",
    "axes[1].plot(f_axis, abs(fft_bb[:int(Nfft/2 + 1)]))\n",
    "axes[1].set_xlabel('Frequency [Hz]')\n",
    "axes[1].set_title('FFT Sinc Interpolated Signal')\n",
    "\n",
    "axes[2].plot(f_axis, abs(fft_cc[:int(Nfft/2 + 1)]))\n",
    "axes[2].set_xlabel('Frequency [Hz]')\n",
    "axes[2].set_title('FFT Lagrange Interpolated Signal')"
   ]
  },
  {
   "cell_type": "code",
   "execution_count": null,
   "metadata": {},
   "outputs": [],
   "source": []
  },
  {
   "cell_type": "code",
   "execution_count": null,
   "metadata": {},
   "outputs": [],
   "source": []
  }
 ],
 "metadata": {
  "interpreter": {
   "hash": "34473e775c900396242d372bc2d7dd0f22c6345a4c04ec50b7a0ad74cac5992f"
  },
  "kernelspec": {
   "display_name": "Python 3.9.7 64-bit ('outdoorSimulator': conda)",
   "language": "python",
   "name": "python3"
  },
  "language_info": {
   "codemirror_mode": {
    "name": "ipython",
    "version": 3
   },
   "file_extension": ".py",
   "mimetype": "text/x-python",
   "name": "python",
   "nbconvert_exporter": "python",
   "pygments_lexer": "ipython3",
   "version": "3.9.7"
  },
  "orig_nbformat": 4
 },
 "nbformat": 4,
 "nbformat_minor": 2
}
