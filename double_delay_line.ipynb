{
 "cells": [
  {
   "cell_type": "markdown",
   "metadata": {},
   "source": [
    "# Double Delay Line Implementation"
   ]
  },
  {
   "cell_type": "markdown",
   "metadata": {},
   "source": [
    "With the addition of the air absorption filter and of the asphalt reflection filter, in the reflected path the signal goes through the cascade of a LTV (Linear Time Varying) and two LTI (Linear Time Invariant) filters. In fact, the asphalt reflection, due to its dependency on the angle of incidence of the sound wave, is LTV, while the air absorption filters are LTI (their coefficients only depend on frequency, and not on the relative positions of the source and the receiver). The block diagram of the signal paths is the following:\n",
    "\n",
    "<img src=\"Delay_Lines.png\">\n",
    "\n",
    "Due to this configuration, we cannot swap the absorption filters (LTI) and the reflection filter (LTV), therefore we need to implement the schematic as it is drawn. In order to do so, we need to use two connected delay lines. One possible implementation of the system is depicted by the following block diagram:\n",
    "\n",
    "<img src = \"delay_line_implementation.png\">\n",
    "\n",
    "The upper path represents the direct sound path, and the lower one the reflected sound path. The second delay line is synchronized with the first one in the sense that the $r_r$ and $w_2$ operations are performed at the same computation step. "
   ]
  },
  {
   "cell_type": "code",
   "execution_count": 17,
   "metadata": {},
   "outputs": [],
   "source": [
    "import numpy as np\n",
    "import scipy.signal\n",
    "import scipy.io\n",
    "from scipy.io import wavfile\n",
    "import matplotlib.pyplot as plt\n",
    "import math\n",
    "\n",
    "\n",
    "# Uncomment to make Gif\n",
    "# import imageio\n",
    "# import os\n",
    "# from IPython.core.interactiveshell import InteractiveShell\n",
    "# InteractiveShell.ast_node_interactivity = \"all\"\n",
    "# from IPython import display\n",
    "# from pathlib import Path\n"
   ]
  },
  {
   "cell_type": "markdown",
   "metadata": {},
   "source": [
    "#### Auxiliary Functions for Delay Line\n",
    "These functions are used to set the initial delay of the delay line, and to compute the fractional delay filters that will be needed in order to perform the interpolated reads"
   ]
  },
  {
   "cell_type": "code",
   "execution_count": 18,
   "metadata": {},
   "outputs": [],
   "source": [
    "# Windowed Sinc Function\n",
    "sinc_samples = 81\n",
    "sinc_window = np.hanning(sinc_samples)\n",
    "\n",
    "def set_delay(M):\n",
    "    global rptr\n",
    "    rptr = wptr - M\n",
    "    if (rptr < 0):\n",
    "        rptr += N\n",
    "\n",
    "def frac_delay_sinc(delay):\n",
    "    global sinc_samples\n",
    "    global sinc_window\n",
    "\n",
    "    return sinc_window * np.sinc(np.arange(0,sinc_samples) - (sinc_samples - 1) / 2 - delay)\n",
    "\n",
    "def frac_delay_lagrange(N, delay):\n",
    "    n = np.arange(0,N+1)\n",
    "    h = np.ones(N+1)\n",
    "\n",
    "    for k in range(0,N+1):\n",
    "        # Find index n != k\n",
    "        index = []\n",
    "        for j in range(0,N+1):\n",
    "            if j != k:\n",
    "                index.append(j)\n",
    "        \n",
    "        h[index] = h[index] * (delay - k) / (n[index] - k)\n",
    "\n",
    "    return h"
   ]
  },
  {
   "cell_type": "markdown",
   "metadata": {},
   "source": [
    "#### Air Absorption Filter\n",
    "These functions are used to compute the coefficients of the air absoprtion filter, given some parameters of the acoustic scene under analysis:\n",
    "- T: temperature of the environment in Kelvin degrees\n",
    "- hum_rel: relative humidity expressed as a percentage value\n",
    "- p_s: atmospheric pressure expressed in atm (STILL TO BE CHECKED)\n",
    "\n",
    "When applying this filter, we will consider that the sounds propagates as plane waves along straight lines. The pressure, then, varies according to the relation\n",
    "\n",
    "$p = p_0 e^{-\\alpha d / 2}$\n",
    "\n",
    "where $d$ denotes the distance between the source and the receiver."
   ]
  },
  {
   "cell_type": "code",
   "execution_count": 19,
   "metadata": {},
   "outputs": [],
   "source": [
    "def compute_air_absorption_coeffs(T, p_s, rel_humidity, F):\n",
    "    ## Computes the air absorption coefficients alpha:\n",
    "    #   T: temperature in Kelvin\n",
    "    #   p_s: pressure in atm\n",
    "    #   rel_humidity: relative humidity as a percentage\n",
    "    #   F: frequencies to compute the coefficients for\n",
    "\n",
    "    T_0 = 293.15        # Absolute atmospheric temperature\n",
    "    p_s0 = 1            # Atmospheric Pressure in atm\n",
    "\n",
    "    Csat = -6.8346 * (T_0 / T) ** 1.261 + 4.6151\n",
    "    psat = 10 ** Csat\n",
    "    H = H = psat * rel_humidity * p_s0 / p_s\n",
    "    F_r0 = (p_s / p_s0) * (24 + 4.04 * 10**4 * H * (0.02 + H) / (0.391 + H))\n",
    "    F_rN = (p_s / p_s0) * (T_0 / T)**(1/2) * ( 9 + 280 * H * np.exp(-4.17 * ((T_0 / T)**(1/3) - 1)))\n",
    "    return 100 * F ** 2 * (((1.84*10**(-11))/((T_0 / T)**(1/2) * p_s / p_s0)) +\n",
    "            (T_0 / T)**(5/2) * ( (0.1068 * np.exp(-3352/T) * F_rN) / (F**2 + F_rN**2) +\n",
    "            (0.01278*np.exp(-2239.1 / T) * F_r0) / (F**2 + F_r0**2)))\n",
    "\n",
    "def compute_air_absorption_filter(F, abs_coeffs, numtaps):\n",
    "    norm_freqs = F / max(F)\n",
    "    filt_coeffs = scipy.signal.firwin2(numtaps, norm_freqs, abs_coeffs)\n",
    "    return filt_coeffs\n"
   ]
  },
  {
   "cell_type": "code",
   "execution_count": 20,
   "metadata": {},
   "outputs": [],
   "source": [
    "# Parameters\n",
    "T_0 = 293.15        # Absolute atmospheric temperature\n",
    "T_celsius = 20      # Actual temperature\n",
    "T = T_celsius + 273.15\n",
    "\n",
    "p_s0 = 1            # Atmospheric Pressure in atm\n",
    "p_s = 1             # Actual pressure in atm\n",
    "\n",
    "hrar = 80           # Relative Humidity in %\n",
    "F = np.linspace(0, 4000, num=9)\n",
    "\n",
    "numtaps = 21\n",
    "alpha = compute_air_absorption_coeffs(T, p_s, hrar, F)\n",
    "filt_coeffs = compute_air_absorption_filter(F, alpha, numtaps)\n"
   ]
  },
  {
   "cell_type": "markdown",
   "metadata": {},
   "source": [
    "#### Attenuation of Sound with Distance \n",
    "Auxiliary function that computes the attenuation of sound as it propagates far from the source. The source is considered as a point source"
   ]
  },
  {
   "cell_type": "code",
   "execution_count": 21,
   "metadata": {},
   "outputs": [],
   "source": [
    "def sound_attenuation_distance(d):\n",
    "    return 1 / (4 * np.pi * d) "
   ]
  },
  {
   "cell_type": "code",
   "execution_count": 23,
   "metadata": {},
   "outputs": [
    {
     "name": "stdout",
     "output_type": "stream",
     "text": [
      "471.6909251581734\n"
     ]
    }
   ],
   "source": [
    "fs = 8000\n",
    "# Straight Trajectory between starting and end point\n",
    "P1 = np.array([3,20])\n",
    "P2 = np.array([3, -5])\n",
    "P3 = np.array([0,0])\n",
    "\n",
    "v = 10   # speed of sound source\n",
    "\n",
    "# Compute distance from MIC (origin) to line\n",
    "dline = np.abs((P2[0] - P1[0]) * (P1[1] - P3[1]) - (P1[0] - P3[0]) * (P2[1] - P1[1])) / np.sqrt(np.sum((P2-P1)**2))\n",
    "dline2 = dline ** 2\n",
    "\n",
    "# Compute distance from P0 to projection of MIC on the line\n",
    "l2 = np.sum((P1-P2)**2)\n",
    "t = np.sum((P3 - P1) * (P2 - P1)) / l2\n",
    "P_proj = P1 + t * (P2 - P1)\n",
    "dproj = np.sqrt(np.sum((P1 - P_proj) ** 2))\n",
    "\n",
    "# Compute initial distance from MIC to P1\n",
    "dinit = np.sqrt(dproj ** 2 + dline ** 2)\n",
    "\n",
    "# Compute time delay in number of samples\n",
    "c = 343\n",
    "tau_init = dinit / c\n",
    "\n",
    "M_init = tau_init * fs\n",
    "print(M_init)\n",
    "\n",
    "delays_sec = []\n",
    "delays_smp = []\n",
    "delays_sec.append(tau_init)\n",
    "\n",
    "# Define delay line\n",
    "N = 1024\n",
    "A = np.zeros(N)\n",
    "\n",
    "\n",
    "rptr = 0\n",
    "wptr = 0\n",
    "M = np.floor(M_init)    # Define initial delay\n",
    "delays_smp.append(M)\n",
    "\n",
    "def delay_line(x):\n",
    "    global rptr\n",
    "    global wptr\n",
    "    global A\n",
    "    global v\n",
    "    global dproj\n",
    "    global c\n",
    "    global fs\n",
    "    global delays_smp\n",
    "    \n",
    "    A[wptr] = x\n",
    "    wptr += 1\n",
    "\n",
    "    rpi = math.floor(rptr)\n",
    "    a = rptr - rpi\n",
    "    # Linear Interpolation\n",
    "    y1 = a * A[rpi + 1] + (1 - a) * A[rpi]\n",
    "    \n",
    "    # Sinc Interpolation -> Windowed Sinc function\n",
    "    h_sinc = frac_delay_sinc(a)\n",
    "    \n",
    "    y2 = 0\n",
    "    for i in range(0, sinc_samples):\n",
    "        y2 = y2 + h_sinc[i]*A[np.mod(rpi + i - math.floor(sinc_samples/2), len(A))]\n",
    "    \n",
    "    # Lagrange Interpolation\n",
    "    order = 5\n",
    "    h_lagrange = frac_delay_lagrange(order, a)\n",
    "    y3 = 0\n",
    "\n",
    "    for i in range(0, len(h_lagrange)):\n",
    "        y3 = y3 + h_lagrange[i] * A[np.mod(rpi + i, len(A))]\n",
    "\n",
    "    # Update delay\n",
    "    dproj -= v / fs\n",
    "    \n",
    "    d = dline2 + dproj ** 2\n",
    "    tau = np.sqrt(d) / c\n",
    "    M = tau * fs\n",
    "    rptr = wptr - M\n",
    "\n",
    "    # For the plots, remove later\n",
    "    delays_sec.append(tau)\n",
    "    delays_smp.append(M)\n",
    "\n",
    "    if (rptr < 0):\n",
    "        rptr += N\n",
    "    if (wptr >= N - 1):\n",
    "        wptr -= (N)\n",
    "    if (rptr >= N - 1):\n",
    "        rptr -= (N)\n",
    "    return y1, y2, y3, d\n",
    "\n",
    "set_delay(M)\n",
    "a = 0\n",
    "signal = 0\n",
    "## Test with signal\n",
    "fs = 8000\n",
    "f = 400\n",
    "time = np.arange(0, 6, 1/fs)\n",
    "\n",
    "# Sinusoidal\n",
    "signal = np.sin(2 * np.pi * f * time)\n",
    "\n",
    "# Noise\n",
    "# signal = np.random.randn(len(time))\n",
    "\n",
    "# Train impulse\n",
    "# signal = np.zeros_like(time)\n",
    "# signal[::500] = 1\n",
    "\n",
    "aa = np.zeros_like(signal)\n",
    "bb = np.zeros_like(signal)\n",
    "cc = np.zeros_like(signal)\n",
    "\n",
    "# Direct Path Implementation\n",
    "for i in range(0, len(signal)):\n",
    "    # Delay passage\n",
    "    [sample1, sample2, sample3, d] = delay_line(signal[i])\n",
    "\n",
    "    # Attenuation due to distance\n",
    "    att = sound_attenuation_distance(d)\n",
    "    aa[i] =  att * sample1\n",
    "    # bb[i] =  att * sample2\n",
    "    # cc[i] =  att * sample3\n",
    "\n",
    "    # Attenuation due to air absorption\n",
    "    for ii in range(numtaps):\n",
    "        sample_eval = aa[i - ii] * filt_coeffs[ii]\n",
    "    bb[i] = sample_eval\n"
   ]
  },
  {
   "cell_type": "code",
   "execution_count": 25,
   "metadata": {},
   "outputs": [
    {
     "data": {
      "image/png": "[encoded data removed]",
      "text/plain": [
       "<Figure size 432x288 with 1 Axes>"
      ]
     },
     "metadata": {
      "needs_background": "light"
     },
     "output_type": "display_data"
    }
   ],
   "source": [
    "ff, tt, Sxx = scipy.signal.spectrogram(bb, fs)\n",
    "# plt.subplot(2,1,1)\n",
    "plt.pcolormesh(tt, ff, Sxx, shading = 'auto')\n",
    "plt.title('Spectrogram')\n",
    "plt.xlabel('Time [s]')\n",
    "plt.ylabel('Frequency [Hz]')\n",
    "# plt.subplot(2,1,2)\n",
    "# plt.plot(range(0, 2048), a[1024:1024+2048])\n",
    "plt.show()\n",
    "\n",
    "wavfile.write('prova.wav', fs, 1*bb)"
   ]
  }
 ],
 "metadata": {
  "interpreter": {
   "hash": "34473e775c900396242d372bc2d7dd0f22c6345a4c04ec50b7a0ad74cac5992f"
  },
  "kernelspec": {
   "display_name": "Python 3.9.7 64-bit ('outdoorSimulator': conda)",
   "language": "python",
   "name": "python3"
  },
  "language_info": {
   "codemirror_mode": {
    "name": "ipython",
    "version": 3
   },
   "file_extension": ".py",
   "mimetype": "text/x-python",
   "name": "python",
   "nbconvert_exporter": "python",
   "pygments_lexer": "ipython3",
   "version": "3.9.7"
  },
  "orig_nbformat": 4
 },
 "nbformat": 4,
 "nbformat_minor": 2
}
